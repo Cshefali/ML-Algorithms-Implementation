{
 "cells": [
  {
   "cell_type": "markdown",
   "id": "c15aee6d",
   "metadata": {},
   "source": [
    "Implementation of logistic regression"
   ]
  },
  {
   "cell_type": "code",
   "execution_count": 1,
   "id": "dddc375f",
   "metadata": {},
   "outputs": [],
   "source": [
    "import numpy as np\n",
    "import matplotlib.pyplot as plt\n",
    "import math"
   ]
  },
  {
   "cell_type": "code",
   "execution_count": 9,
   "id": "4c770a68",
   "metadata": {},
   "outputs": [
    {
     "data": {
      "text/plain": [
       "array([[-2.00000000e+01,  2.06115362e-09],\n",
       "       [-1.90000000e+01,  5.60279641e-09],\n",
       "       [-1.80000000e+01,  1.52299795e-08],\n",
       "       [-1.70000000e+01,  4.13993755e-08],\n",
       "       [-1.60000000e+01,  1.12535162e-07],\n",
       "       [-1.50000000e+01,  3.05902227e-07],\n",
       "       [-1.40000000e+01,  8.31528028e-07],\n",
       "       [-1.30000000e+01,  2.26032430e-06],\n",
       "       [-1.20000000e+01,  6.14417460e-06],\n",
       "       [-1.10000000e+01,  1.67014218e-05],\n",
       "       [-1.00000000e+01,  4.53978687e-05],\n",
       "       [-9.00000000e+00,  1.23394576e-04],\n",
       "       [-8.00000000e+00,  3.35350130e-04],\n",
       "       [-7.00000000e+00,  9.11051194e-04],\n",
       "       [-6.00000000e+00,  2.47262316e-03],\n",
       "       [-5.00000000e+00,  6.69285092e-03],\n",
       "       [-4.00000000e+00,  1.79862100e-02],\n",
       "       [-3.00000000e+00,  4.74258732e-02],\n",
       "       [-2.00000000e+00,  1.19202922e-01],\n",
       "       [-1.00000000e+00,  2.68941421e-01],\n",
       "       [ 0.00000000e+00,  5.00000000e-01],\n",
       "       [ 1.00000000e+00,  7.31058579e-01],\n",
       "       [ 2.00000000e+00,  8.80797078e-01],\n",
       "       [ 3.00000000e+00,  9.52574127e-01],\n",
       "       [ 4.00000000e+00,  9.82013790e-01],\n",
       "       [ 5.00000000e+00,  9.93307149e-01],\n",
       "       [ 6.00000000e+00,  9.97527377e-01],\n",
       "       [ 7.00000000e+00,  9.99088949e-01],\n",
       "       [ 8.00000000e+00,  9.99664650e-01],\n",
       "       [ 9.00000000e+00,  9.99876605e-01],\n",
       "       [ 1.00000000e+01,  9.99954602e-01],\n",
       "       [ 1.10000000e+01,  9.99983299e-01],\n",
       "       [ 1.20000000e+01,  9.99993856e-01],\n",
       "       [ 1.30000000e+01,  9.99997740e-01],\n",
       "       [ 1.40000000e+01,  9.99999168e-01],\n",
       "       [ 1.50000000e+01,  9.99999694e-01],\n",
       "       [ 1.60000000e+01,  9.99999887e-01],\n",
       "       [ 1.70000000e+01,  9.99999959e-01],\n",
       "       [ 1.80000000e+01,  9.99999985e-01],\n",
       "       [ 1.90000000e+01,  9.99999994e-01]])"
      ]
     },
     "execution_count": 9,
     "metadata": {},
     "output_type": "execute_result"
    }
   ],
   "source": [
    "z = np.arange(-20, 20)\n",
    "gz = 1/(1 + np.exp(-z))\n",
    "np.c_[z, gz]"
   ]
  },
  {
   "cell_type": "code",
   "execution_count": 16,
   "id": "85cb0f10",
   "metadata": {},
   "outputs": [
    {
     "data": {
      "image/png": "[encoded data removed]",
      "text/plain": [
       "<Figure size 500x300 with 1 Axes>"
      ]
     },
     "metadata": {},
     "output_type": "display_data"
    }
   ],
   "source": [
    "fig, ax = plt.subplots(1, 1, figsize = (5, 3))\n",
    "ax.plot(z, gz, c = \"red\")\n",
    "ax.axvline(x = 0, c = \"b\", ymin = min(gz), ymax = max(gz), linestyle = \":\")\n",
    "plt.show()"
   ]
  },
  {
   "cell_type": "code",
   "execution_count": 17,
   "id": "163202a8",
   "metadata": {},
   "outputs": [
    {
     "data": {
      "text/plain": [
       "array([[ 0,  3],\n",
       "       [ 1,  2],\n",
       "       [ 2,  1],\n",
       "       [ 3,  0],\n",
       "       [ 4, -1],\n",
       "       [ 5, -2]])"
      ]
     },
     "execution_count": 17,
     "metadata": {},
     "output_type": "execute_result"
    }
   ],
   "source": [
    "x0 = np.arange(0, 6)\n",
    "x1 = 3 - x0\n",
    "np.c_[x0, x1]"
   ]
  },
  {
   "cell_type": "code",
   "execution_count": 21,
   "id": "1336d5bc",
   "metadata": {},
   "outputs": [
    {
     "data": {
      "image/png": "[encoded data removed]",
      "text/plain": [
       "<Figure size 400x400 with 1 Axes>"
      ]
     },
     "metadata": {},
     "output_type": "display_data"
    }
   ],
   "source": [
    "fig, ax = plt.subplots(1,1, figsize = (4,4))\n",
    "ax.plot(x0, x1, c = \"r\")\n",
    "ax.fill_between(x0, x1, alpha= 0.2)\n",
    "ax.scatter(x0, x1, c = \"blue\", marker = \"*\")\n",
    "plt.show()"
   ]
  },
  {
   "cell_type": "code",
   "execution_count": 2,
   "id": "977ab1e7",
   "metadata": {},
   "outputs": [],
   "source": [
    "#function to compute logistic cost\n",
    "def compute_log_cost(xtrain, ytrain, w, b, reg_coeff):\n",
    "    \"\"\"\n",
    "    Objective- Compute and return the logistic cost\n",
    "    Arguments-\n",
    "    xtrain (2-D matrix)- training samples\n",
    "    ytrain (1-D array)- target outputs\n",
    "    w (1-D array)- weights parameter\n",
    "    b (scalar)- bias\n",
    "    reg_coeff- regularization coefficient lambda\n",
    "    \"\"\"\n",
    "    m, n = xtrain.shape\n",
    "    cost = 0.0\n",
    "    reg = 0.0\n",
    "    for i in range(m):\n",
    "        fx = np.dot(xtrain[i],w) + b\n",
    "        gz = sigmoid(fx)\n",
    "        loss = ytrain[i]*np.log(gz) + (1 - ytrain[i])*np.log(1 - gz)\n",
    "        cost = cost + loss\n",
    "    \n",
    "    #calculating regularization term\n",
    "    for j in range(n):\n",
    "        reg = reg + w[j]**2\n",
    "    \n",
    "    reg = reg * (reg_coeff\n",
    "    total_cost = (cost + reg)/(2*m)\n",
    "    return total_cost\n"
   ]
  },
  {
   "cell_type": "code",
   "execution_count": 3,
   "id": "43fa7831",
   "metadata": {},
   "outputs": [],
   "source": [
    "#function to compute gradient\n",
    "def compute_gradient(xtrain, ytrain, w, b):\n",
    "    m,n = xtrain.shape\n",
    "    dj_dw, dj_db = [], []\n",
    "    for i in range(m):\n",
    "        fx = np.dot(xtrain[i], w) + b\n",
    "        gz = sigmoid(fx)\n",
    "        err = gz - ytrain[i]\n",
    "        for j in range(n):\n",
    "            dj_dw[j] = dj_dw + err*xtrain[i][j]\n",
    "        dj_dw = dj_dw + err\n",
    "    #average\n",
    "    dj_dw = dj_dw/m\n",
    "    dj_db = dj_db/m\n",
    "    return dj_dw, dj_db"
   ]
  },
  {
   "cell_type": "code",
   "execution_count": null,
   "id": "b68453e8",
   "metadata": {},
   "outputs": [],
   "source": [
    "def gradient_descent(xtrain, ytrain,w, b, alpha, iters, reg_coeff, compute_cost, compute_gradient):\n",
    "    w_in, b_in = w, b\n",
    "    J_history, w_history, b_history = [], [] ,[]\n",
    "    #regularization constant.\n",
    "    reg_term = 1 - alpha*(reg_coeff/m)\n",
    "    for i in range(iters):\n",
    "        \n",
    "        #compute gradient\n",
    "        dj_dw, dj_db = compute_gradient(xtrain, ytrain, w_in, b_in)\n",
    "        #simultaneous update\n",
    "        w_in = w_in*reg_term - alpha*dj_dw\n",
    "        b_in = b_in - dj_db\n",
    "        \n",
    "        #save cost and parameters history\n",
    "        if i < 100000:\n",
    "            J_history.append(compute_cost(xtrain, ytrain, w, b))\n",
    "            w_history.append(w_in)\n",
    "            b_history.append(b_in)\n",
    "        \n",
    "    return J_history, w_history, b_history, w_in, b_in"
   ]
  },
  {
   "cell_type": "code",
   "execution_count": null,
   "id": "242f4e11",
   "metadata": {},
   "outputs": [],
   "source": [
    "#Training datasets\n",
    "#features\n",
    "xtrain = np.array([])\n",
    "ytrain = np.array([])"
   ]
  },
  {
   "cell_type": "code",
   "execution_count": null,
   "id": "7bfc608b",
   "metadata": {},
   "outputs": [],
   "source": [
    "#Some other initializations\n",
    "alpha = 0.01\n",
    "lambda_ = 0.001\n",
    "w = np.zeros(xtrain.shape[1])\n",
    "b = 0\n",
    "iters = 100"
   ]
  },
  {
   "cell_type": "code",
   "execution_count": null,
   "id": "36b92522",
   "metadata": {},
   "outputs": [],
   "source": [
    "#call to gradient descnet\n",
    "J_history, w_history, b_history, final_w, final_b = gradient_descent(xtrain, ytrain,w, b, \n",
    "                                                                     alpha, iters, lambda_, compute_cost, compute_gradient)"
   ]
  },
  {
   "cell_type": "code",
   "execution_count": null,
   "id": "a0434136",
   "metadata": {},
   "outputs": [],
   "source": [
    "#Equation for descision boundary."
   ]
  }
 ],
 "metadata": {
  "kernelspec": {
   "display_name": "Python 3 (ipykernel)",
   "language": "python",
   "name": "python3"
  },
  "language_info": {
   "codemirror_mode": {
    "name": "ipython",
    "version": 3
   },
   "file_extension": ".py",
   "mimetype": "text/x-python",
   "name": "python",
   "nbconvert_exporter": "python",
   "pygments_lexer": "ipython3",
   "version": "3.10.0"
  }
 },
 "nbformat": 4,
 "nbformat_minor": 5
}
