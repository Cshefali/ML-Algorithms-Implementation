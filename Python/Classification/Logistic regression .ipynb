{
 "cells": [
  {
   "cell_type": "markdown",
   "id": "c15aee6d",
   "metadata": {},
   "source": [
    "### Implementation of logistic regression"
   ]
  },
  {
   "cell_type": "code",
   "execution_count": 1,
   "id": "dddc375f",
   "metadata": {},
   "outputs": [],
   "source": [
    "import numpy as np\n",
    "import pandas as pd\n",
    "import matplotlib.pyplot as plt\n",
    "import math"
   ]
  },
  {
   "cell_type": "code",
   "execution_count": 2,
   "id": "2ea10819",
   "metadata": {},
   "outputs": [],
   "source": [
    "#read dataset\n",
    "df1 = pd.read_csv('titanic_train.csv', index_col = False)"
   ]
  },
  {
   "cell_type": "code",
   "execution_count": 5,
   "id": "f93066c1",
   "metadata": {},
   "outputs": [
    {
     "data": {
      "text/plain": [
       "Index(['passengerid', 'survived', 'pclass', 'name', 'sex', 'age', 'sibsp',\n",
       "       'parch', 'ticket', 'fare', 'cabin', 'embarked'],\n",
       "      dtype='object')"
      ]
     },
     "execution_count": 5,
     "metadata": {},
     "output_type": "execute_result"
    }
   ],
   "source": [
    "df1.columns"
   ]
  },
  {
   "cell_type": "code",
   "execution_count": 4,
   "id": "5c7c1bf0",
   "metadata": {},
   "outputs": [],
   "source": [
    "#convert the column names to lowercase\n",
    "df1.columns = df1.columns.str.lower()"
   ]
  },
  {
   "cell_type": "code",
   "execution_count": 6,
   "id": "59748fa2",
   "metadata": {},
   "outputs": [],
   "source": [
    "#take a random sample of 20 data points.\n",
    "df1_sample = df1.sample(n=30)\n",
    "df1_sample = df1_sample.loc[:,['survived','pclass','sex','age','fare']]"
   ]
  },
  {
   "cell_type": "code",
   "execution_count": 9,
   "id": "3709db41",
   "metadata": {},
   "outputs": [
    {
     "name": "stdout",
     "output_type": "stream",
     "text": [
      "     survived  pclass     sex   age     fare\n",
      "682         0       3    male  20.0   9.2250\n",
      "711         0       1    male   NaN  26.5500\n",
      "164         0       3    male   1.0  39.6875\n",
      "251         0       3  female  29.0  10.4625\n",
      "667         0       3    male   NaN   7.7750\n",
      "787         0       3    male   8.0  29.1250\n",
      "317         0       2    male  54.0  14.0000\n",
      "646         0       3    male  19.0   7.8958\n",
      "850         0       3    male   4.0  31.2750\n",
      "881         0       3    male  33.0   7.8958\n",
      "883         0       2    male  28.0  10.5000\n",
      "104         0       3    male  37.0   7.9250\n",
      "144         0       2    male  18.0  11.5000\n",
      "517         0       3    male   NaN  24.1500\n",
      "785         0       3    male  25.0   7.2500\n",
      "147         0       3  female   9.0  34.3750\n",
      "287         0       3    male  22.0   7.8958\n",
      "442         0       3    male  25.0   7.7750\n",
      "167         0       3  female  45.0  27.9000\n",
      "     survived  pclass     sex    age     fare\n",
      "218         1       1  female  32.00  76.2917\n",
      "84          1       2  female  17.00  10.5000\n",
      "366         1       1  female  60.00  75.2500\n",
      "707         1       1    male  42.00  26.2875\n",
      "330         1       3  female    NaN  23.2500\n",
      "691         1       3  female   4.00  13.4167\n",
      "52          1       1  female  49.00  76.7292\n",
      "831         1       2    male   0.83  18.7500\n",
      "506         1       2  female  33.00  26.0000\n",
      "133         1       2  female  29.00  26.0000\n",
      "510         1       3    male  29.00   7.7500\n"
     ]
    }
   ],
   "source": [
    "groups = df1_sample.groupby('survived')\n",
    "for name, group in groups:\n",
    "    print(group)"
   ]
  },
  {
   "cell_type": "code",
   "execution_count": 12,
   "id": "58fc1da4",
   "metadata": {},
   "outputs": [
    {
     "data": {
      "image/png": "[encoded data removed]",
      "text/plain": [
       "<Figure size 500x400 with 1 Axes>"
      ]
     },
     "metadata": {},
     "output_type": "display_data"
    }
   ],
   "source": [
    "#Plot for the data points\n",
    "fig, ax = plt.subplots(1, 1, figsize = (5,4))\n",
    "\n",
    "groups = df1_sample.groupby('survived')\n",
    "for name, group in groups:\n",
    "    plt.plot(group['fare'], group['survived'], marker = '*', label = name)\n",
    "\n",
    "plt.show()\n"
   ]
  },
  {
   "cell_type": "code",
   "execution_count": 33,
   "id": "2c239f8e",
   "metadata": {},
   "outputs": [],
   "source": [
    "#selecting relevant columns and dividing into input and target values.\n",
    "xtrain = df1_sample.loc[:,['pclass','sex','age','fare']]\n",
    "ytrain = df1_sample.loc[:,'survived']\n",
    "#Convert Gender column from text to numeric- Male-0, female-1\n",
    "xtrain['sex_encoded'] = np.where(xtrain['sex'] == \"female\", 1, 0)"
   ]
  },
  {
   "cell_type": "code",
   "execution_count": 35,
   "id": "07c06cd4",
   "metadata": {},
   "outputs": [],
   "source": [
    "#remove the text gender column\n",
    "xtrain = xtrain.drop(['sex'], axis = 1)"
   ]
  },
  {
   "cell_type": "code",
   "execution_count": 36,
   "id": "8d8dc71c",
   "metadata": {},
   "outputs": [
    {
     "data": {
      "text/html": [
       "<div>\n",
       "<style scoped>\n",
       "    .dataframe tbody tr th:only-of-type {\n",
       "        vertical-align: middle;\n",
       "    }\n",
       "\n",
       "    .dataframe tbody tr th {\n",
       "        vertical-align: top;\n",
       "    }\n",
       "\n",
       "    .dataframe thead th {\n",
       "        text-align: right;\n",
       "    }\n",
       "</style>\n",
       "<table border=\"1\" class=\"dataframe\">\n",
       "  <thead>\n",
       "    <tr style=\"text-align: right;\">\n",
       "      <th></th>\n",
       "      <th>pclass</th>\n",
       "      <th>age</th>\n",
       "      <th>fare</th>\n",
       "      <th>sex_encoded</th>\n",
       "    </tr>\n",
       "  </thead>\n",
       "  <tbody>\n",
       "    <tr>\n",
       "      <th>612</th>\n",
       "      <td>3</td>\n",
       "      <td>NaN</td>\n",
       "      <td>15.5000</td>\n",
       "      <td>1</td>\n",
       "    </tr>\n",
       "    <tr>\n",
       "      <th>771</th>\n",
       "      <td>3</td>\n",
       "      <td>48.0</td>\n",
       "      <td>7.8542</td>\n",
       "      <td>0</td>\n",
       "    </tr>\n",
       "    <tr>\n",
       "      <th>397</th>\n",
       "      <td>2</td>\n",
       "      <td>46.0</td>\n",
       "      <td>26.0000</td>\n",
       "      <td>0</td>\n",
       "    </tr>\n",
       "    <tr>\n",
       "      <th>815</th>\n",
       "      <td>1</td>\n",
       "      <td>NaN</td>\n",
       "      <td>0.0000</td>\n",
       "      <td>0</td>\n",
       "    </tr>\n",
       "    <tr>\n",
       "      <th>804</th>\n",
       "      <td>3</td>\n",
       "      <td>27.0</td>\n",
       "      <td>6.9750</td>\n",
       "      <td>0</td>\n",
       "    </tr>\n",
       "  </tbody>\n",
       "</table>\n",
       "</div>"
      ],
      "text/plain": [
       "     pclass   age     fare  sex_encoded\n",
       "612       3   NaN  15.5000            1\n",
       "771       3  48.0   7.8542            0\n",
       "397       2  46.0  26.0000            0\n",
       "815       1   NaN   0.0000            0\n",
       "804       3  27.0   6.9750            0"
      ]
     },
     "execution_count": 36,
     "metadata": {},
     "output_type": "execute_result"
    }
   ],
   "source": [
    "xtrain.head(5)"
   ]
  },
  {
   "cell_type": "code",
   "execution_count": null,
   "id": "4c770a68",
   "metadata": {},
   "outputs": [],
   "source": [
    "# z = np.arange(-20, 20)\n",
    "# gz = 1/(1 + np.exp(-z))\n",
    "# np.c_[z, gz]"
   ]
  },
  {
   "cell_type": "code",
   "execution_count": 28,
   "id": "0560da06",
   "metadata": {},
   "outputs": [
    {
     "data": {
      "image/png": "[encoded data removed]",
      "text/plain": [
       "<Figure size 400x300 with 1 Axes>"
      ]
     },
     "metadata": {},
     "output_type": "display_data"
    }
   ],
   "source": [
    "#Plot showing all 20 data points with respect to fare\n",
    "fig, ax = plt.subplots(1,1, figsize = (4,3))\n",
    "ax.scatter(df1.loc[:,'fare'], df1[:,'survived'])\n",
    "plt.show()"
   ]
  },
  {
   "cell_type": "code",
   "execution_count": null,
   "id": "85cb0f10",
   "metadata": {},
   "outputs": [],
   "source": [
    "# fig, ax = plt.subplots(1, 1, figsize = (5, 3))\n",
    "# ax.plot(z, gz, c = \"red\")\n",
    "# ax.axvline(x = 0, c = \"b\", ymin = min(gz), ymax = max(gz), linestyle = \":\")\n",
    "# plt.show()"
   ]
  },
  {
   "cell_type": "code",
   "execution_count": 17,
   "id": "163202a8",
   "metadata": {},
   "outputs": [
    {
     "data": {
      "text/plain": [
       "array([[ 0,  3],\n",
       "       [ 1,  2],\n",
       "       [ 2,  1],\n",
       "       [ 3,  0],\n",
       "       [ 4, -1],\n",
       "       [ 5, -2]])"
      ]
     },
     "execution_count": 17,
     "metadata": {},
     "output_type": "execute_result"
    }
   ],
   "source": [
    "x0 = np.arange(0, 6)\n",
    "x1 = 3 - x0\n",
    "np.c_[x0, x1]"
   ]
  },
  {
   "cell_type": "code",
   "execution_count": 21,
   "id": "1336d5bc",
   "metadata": {},
   "outputs": [
    {
     "data": {
      "image/png": "[encoded data removed]",
      "text/plain": [
       "<Figure size 400x400 with 1 Axes>"
      ]
     },
     "metadata": {},
     "output_type": "display_data"
    }
   ],
   "source": [
    "fig, ax = plt.subplots(1,1, figsize = (4,4))\n",
    "ax.plot(x0, x1, c = \"r\")\n",
    "ax.fill_between(x0, x1, alpha= 0.2)\n",
    "ax.scatter(x0, x1, c = \"blue\", marker = \"*\")\n",
    "plt.show()"
   ]
  },
  {
   "cell_type": "code",
   "execution_count": 2,
   "id": "977ab1e7",
   "metadata": {},
   "outputs": [],
   "source": [
    "#function to compute logistic cost\n",
    "def compute_log_cost(xtrain, ytrain, w, b, reg_coeff):\n",
    "    \"\"\"\n",
    "    Objective- Compute and return the logistic cost\n",
    "    Arguments-\n",
    "    xtrain (2-D matrix)- training samples\n",
    "    ytrain (1-D array)- target outputs\n",
    "    w (1-D array)- weights parameter\n",
    "    b (scalar)- bias\n",
    "    reg_coeff- regularization coefficient lambda\n",
    "    \"\"\"\n",
    "    m, n = xtrain.shape\n",
    "    cost = 0.0\n",
    "    reg = 0.0\n",
    "    for i in range(m):\n",
    "        fx = np.dot(xtrain[i],w) + b\n",
    "        gz = sigmoid(fx)\n",
    "        loss = ytrain[i]*np.log(gz) + (1 - ytrain[i])*np.log(1 - gz)\n",
    "        cost = cost + loss\n",
    "    \n",
    "    #calculating regularization term\n",
    "    for j in range(n):\n",
    "        reg = reg + w[j]**2\n",
    "    \n",
    "    reg = reg * (reg_coeff\n",
    "    total_cost = (cost + reg)/(2*m)\n",
    "    return total_cost\n"
   ]
  },
  {
   "cell_type": "code",
   "execution_count": 3,
   "id": "43fa7831",
   "metadata": {},
   "outputs": [],
   "source": [
    "#function to compute gradient\n",
    "def compute_gradient(xtrain, ytrain, w, b):\n",
    "    m,n = xtrain.shape\n",
    "    dj_dw, dj_db = [], []\n",
    "    for i in range(m):\n",
    "        fx = np.dot(xtrain[i], w) + b\n",
    "        gz = sigmoid(fx)\n",
    "        err = gz - ytrain[i]\n",
    "        for j in range(n):\n",
    "            dj_dw[j] = dj_dw + err*xtrain[i][j]\n",
    "        dj_dw = dj_dw + err\n",
    "    #average\n",
    "    dj_dw = dj_dw/m\n",
    "    dj_db = dj_db/m\n",
    "    return dj_dw, dj_db"
   ]
  },
  {
   "cell_type": "code",
   "execution_count": null,
   "id": "b68453e8",
   "metadata": {},
   "outputs": [],
   "source": [
    "def gradient_descent(xtrain, ytrain,w, b, alpha, iters, reg_coeff, compute_cost, compute_gradient):\n",
    "    w_in, b_in = w, b\n",
    "    J_history, w_history, b_history = [], [] ,[]\n",
    "    #regularization constant.\n",
    "    reg_term = 1 - alpha*(reg_coeff/m)\n",
    "    for i in range(iters):\n",
    "        \n",
    "        #compute gradient\n",
    "        dj_dw, dj_db = compute_gradient(xtrain, ytrain, w_in, b_in)\n",
    "        #simultaneous update\n",
    "        w_in = w_in*reg_term - alpha*dj_dw\n",
    "        b_in = b_in - dj_db\n",
    "        \n",
    "        #save cost and parameters history\n",
    "        if i < 100000:\n",
    "            J_history.append(compute_cost(xtrain, ytrain, w, b))\n",
    "            w_history.append(w_in)\n",
    "            b_history.append(b_in)\n",
    "        \n",
    "    return J_history, w_history, b_history, w_in, b_in"
   ]
  },
  {
   "cell_type": "code",
   "execution_count": null,
   "id": "8a5c58eb",
   "metadata": {},
   "outputs": [],
   "source": [
    "#sigmoid function\n",
    "def sigmoid(x):\n",
    "    \"\"\"\n",
    "    Objective- compute the sigmoid value of given input\n",
    "    Argument- x (scalar/1-d array)- training sample(s)\n",
    "    Returns- scalar/1-d vector of sigmoid values.\n",
    "    \"\"\"\n",
    "\n",
    "    gz = 1/(1 + np.exp(-x))\n",
    "    \n",
    "    return gz"
   ]
  },
  {
   "cell_type": "code",
   "execution_count": null,
   "id": "c80311a5",
   "metadata": {},
   "outputs": [],
   "source": [
    "#normalize the dataset\n",
    "def normalize(df):\n",
    "    \"\"\"\n",
    "    Objective- normalize the given dataframe.\n",
    "    Argument- df (1-d array)\n",
    "    Return- normalized dataframe, normalizing mean and standard deviation\n",
    "    \"\"\"\n",
    "    norm_mean = np.mean(df)\n",
    "    norm_sd = np.std(df)\n",
    "    norm_df = (df - norm_mean)/norm_sd\n",
    "    \n",
    "    return norm_mean, norm_sd, norm_df"
   ]
  },
  {
   "cell_type": "code",
   "execution_count": null,
   "id": "242f4e11",
   "metadata": {},
   "outputs": [],
   "source": [
    "#Training datasets\n",
    "#features\n",
    "xtrain = np.array([])\n",
    "ytrain = np.array([])"
   ]
  },
  {
   "cell_type": "code",
   "execution_count": null,
   "id": "7bfc608b",
   "metadata": {},
   "outputs": [],
   "source": [
    "#Some other initializations\n",
    "alpha = 0.01\n",
    "lambda_ = 0.001\n",
    "w = np.zeros(xtrain.shape[1])\n",
    "b = 0\n",
    "iters = 100"
   ]
  },
  {
   "cell_type": "code",
   "execution_count": null,
   "id": "36b92522",
   "metadata": {},
   "outputs": [],
   "source": [
    "#call to gradient descnet\n",
    "J_history, w_history, b_history, final_w, final_b = gradient_descent(xtrain, ytrain,w, b, \n",
    "                                                                     alpha, iters, lambda_, compute_cost, compute_gradient)"
   ]
  },
  {
   "cell_type": "code",
   "execution_count": null,
   "id": "a0434136",
   "metadata": {},
   "outputs": [],
   "source": [
    "#Equation for descision boundary."
   ]
  }
 ],
 "metadata": {
  "kernelspec": {
   "display_name": "Python 3 (ipykernel)",
   "language": "python",
   "name": "python3"
  },
  "language_info": {
   "codemirror_mode": {
    "name": "ipython",
    "version": 3
   },
   "file_extension": ".py",
   "mimetype": "text/x-python",
   "name": "python",
   "nbconvert_exporter": "python",
   "pygments_lexer": "ipython3",
   "version": "3.10.0"
  }
 },
 "nbformat": 4,
 "nbformat_minor": 5
}
