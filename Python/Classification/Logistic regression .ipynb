{
 "cells": [
  {
   "cell_type": "markdown",
   "id": "c15aee6d",
   "metadata": {},
   "source": [
    "### Implementation of logistic regression"
   ]
  },
  {
   "cell_type": "code",
   "execution_count": 1,
   "id": "dddc375f",
   "metadata": {},
   "outputs": [],
   "source": [
    "import numpy as np\n",
    "import pandas as pd\n",
    "import matplotlib.pyplot as plt\n",
    "import math"
   ]
  },
  {
   "cell_type": "code",
   "execution_count": 2,
   "id": "2ea10819",
   "metadata": {},
   "outputs": [],
   "source": [
    "#read dataset\n",
    "df1 = pd.read_csv('titanic_train.csv', index_col = False)"
   ]
  },
  {
   "cell_type": "code",
   "execution_count": 3,
   "id": "f93066c1",
   "metadata": {},
   "outputs": [
    {
     "data": {
      "text/plain": [
       "Index(['PassengerId', 'Survived', 'Pclass', 'Name', 'Sex', 'Age', 'SibSp',\n",
       "       'Parch', 'Ticket', 'Fare', 'Cabin', 'Embarked'],\n",
       "      dtype='object')"
      ]
     },
     "execution_count": 3,
     "metadata": {},
     "output_type": "execute_result"
    }
   ],
   "source": [
    "df1.columns"
   ]
  },
  {
   "cell_type": "code",
   "execution_count": 4,
   "id": "5c7c1bf0",
   "metadata": {},
   "outputs": [],
   "source": [
    "#convert the column names to lowercase\n",
    "df1.columns = df1.columns.str.lower()"
   ]
  },
  {
   "cell_type": "code",
   "execution_count": 5,
   "id": "59748fa2",
   "metadata": {},
   "outputs": [],
   "source": [
    "#take a random sample of 20 data points.\n",
    "df1_sample = df1.sample(n=30)\n",
    "df1_sample = df1_sample.loc[:,['survived','pclass','sex','age','fare']]"
   ]
  },
  {
   "cell_type": "code",
   "execution_count": 28,
   "id": "3d176207",
   "metadata": {},
   "outputs": [
    {
     "data": {
      "text/plain": [
       "dict_keys([0, 1])"
      ]
     },
     "execution_count": 28,
     "metadata": {},
     "output_type": "execute_result"
    }
   ],
   "source": [
    "#divide the dataframe into survival categories- 1- survived; 0-not survived\n",
    "survival_categories = df1_sample.groupby('survived')\n",
    "#view the keys\n",
    "survival_categories.groups.keys()"
   ]
  },
  {
   "cell_type": "code",
   "execution_count": 48,
   "id": "58fc1da4",
   "metadata": {},
   "outputs": [
    {
     "data": {
      "image/png": "[encoded data removed]",
      "text/plain": [
       "<Figure size 800x200 with 2 Axes>"
      ]
     },
     "metadata": {},
     "output_type": "display_data"
    }
   ],
   "source": [
    "#Plot for the data points\n",
    "fig, ax = plt.subplots(1, 2, figsize = (8,2))\n",
    "colors = ('red', 'blue')\n",
    "\n",
    "for name, group in groups:\n",
    "    ax[0].scatter(group['fare'], group['survived'], marker = 'x', label = name)\n",
    "\n",
    "#Subplot 2\n",
    "ax[1].scatter(df1_sample.loc[:,'fare'], df1_sample.loc[:,'survived'])\n",
    "\n",
    "fig.suptitle(\"Training samples using 2 methods\")\n",
    "plt.show()\n"
   ]
  },
  {
   "cell_type": "code",
   "execution_count": 36,
   "id": "2c239f8e",
   "metadata": {},
   "outputs": [],
   "source": [
    "#selecting relevant columns and dividing into input and target values.\n",
    "xtrain = df1_sample.loc[:,['pclass','sex','age','fare']]\n",
    "ytrain = df1_sample.loc[:,'survived']\n",
    "#Convert Gender column from text to numeric- Male-0, female-1\n",
    "xtrain['sex_encoded'] = np.where(xtrain['sex'] == \"female\", 1, 0)"
   ]
  },
  {
   "cell_type": "code",
   "execution_count": 37,
   "id": "07c06cd4",
   "metadata": {},
   "outputs": [],
   "source": [
    "#remove the text gender column\n",
    "xtrain = xtrain.drop(['sex'], axis = 1)"
   ]
  },
  {
   "cell_type": "code",
   "execution_count": 38,
   "id": "8d8dc71c",
   "metadata": {},
   "outputs": [
    {
     "data": {
      "text/html": [
       "<div>\n",
       "<style scoped>\n",
       "    .dataframe tbody tr th:only-of-type {\n",
       "        vertical-align: middle;\n",
       "    }\n",
       "\n",
       "    .dataframe tbody tr th {\n",
       "        vertical-align: top;\n",
       "    }\n",
       "\n",
       "    .dataframe thead th {\n",
       "        text-align: right;\n",
       "    }\n",
       "</style>\n",
       "<table border=\"1\" class=\"dataframe\">\n",
       "  <thead>\n",
       "    <tr style=\"text-align: right;\">\n",
       "      <th></th>\n",
       "      <th>pclass</th>\n",
       "      <th>age</th>\n",
       "      <th>fare</th>\n",
       "      <th>sex_encoded</th>\n",
       "    </tr>\n",
       "  </thead>\n",
       "  <tbody>\n",
       "    <tr>\n",
       "      <th>734</th>\n",
       "      <td>2</td>\n",
       "      <td>23.0</td>\n",
       "      <td>13.0000</td>\n",
       "      <td>0</td>\n",
       "    </tr>\n",
       "    <tr>\n",
       "      <th>810</th>\n",
       "      <td>3</td>\n",
       "      <td>26.0</td>\n",
       "      <td>7.8875</td>\n",
       "      <td>0</td>\n",
       "    </tr>\n",
       "    <tr>\n",
       "      <th>508</th>\n",
       "      <td>3</td>\n",
       "      <td>28.0</td>\n",
       "      <td>22.5250</td>\n",
       "      <td>0</td>\n",
       "    </tr>\n",
       "    <tr>\n",
       "      <th>283</th>\n",
       "      <td>3</td>\n",
       "      <td>19.0</td>\n",
       "      <td>8.0500</td>\n",
       "      <td>0</td>\n",
       "    </tr>\n",
       "    <tr>\n",
       "      <th>96</th>\n",
       "      <td>1</td>\n",
       "      <td>71.0</td>\n",
       "      <td>34.6542</td>\n",
       "      <td>0</td>\n",
       "    </tr>\n",
       "  </tbody>\n",
       "</table>\n",
       "</div>"
      ],
      "text/plain": [
       "     pclass   age     fare  sex_encoded\n",
       "734       2  23.0  13.0000            0\n",
       "810       3  26.0   7.8875            0\n",
       "508       3  28.0  22.5250            0\n",
       "283       3  19.0   8.0500            0\n",
       "96        1  71.0  34.6542            0"
      ]
     },
     "execution_count": 38,
     "metadata": {},
     "output_type": "execute_result"
    }
   ],
   "source": [
    "xtrain.head(5)"
   ]
  },
  {
   "cell_type": "code",
   "execution_count": null,
   "id": "4c770a68",
   "metadata": {},
   "outputs": [],
   "source": [
    "# z = np.arange(-20, 20)\n",
    "# gz = 1/(1 + np.exp(-z))\n",
    "# np.c_[z, gz]"
   ]
  },
  {
   "cell_type": "code",
   "execution_count": null,
   "id": "85cb0f10",
   "metadata": {},
   "outputs": [],
   "source": [
    "# fig, ax = plt.subplots(1, 1, figsize = (5, 3))\n",
    "# ax.plot(z, gz, c = \"red\")\n",
    "# ax.axvline(x = 0, c = \"b\", ymin = min(gz), ymax = max(gz), linestyle = \":\")\n",
    "# plt.show()"
   ]
  },
  {
   "cell_type": "code",
   "execution_count": null,
   "id": "163202a8",
   "metadata": {},
   "outputs": [],
   "source": [
    "#sample data to show plot in next chunk\n",
    "x0 = np.arange(0, 6)\n",
    "x1 = 3 - x0\n",
    "np.c_[x0, x1]"
   ]
  },
  {
   "cell_type": "code",
   "execution_count": 21,
   "id": "1336d5bc",
   "metadata": {},
   "outputs": [
    {
     "data": {
      "image/png": "[encoded data removed]",
      "text/plain": [
       "<Figure size 400x400 with 1 Axes>"
      ]
     },
     "metadata": {},
     "output_type": "display_data"
    }
   ],
   "source": [
    "fig, ax = plt.subplots(1,1, figsize = (4,4))\n",
    "ax.plot(x0, x1, c = \"r\")\n",
    "ax.fill_between(x0, x1, alpha= 0.2)\n",
    "ax.scatter(x0, x1, c = \"blue\", marker = \"*\")\n",
    "plt.show()"
   ]
  },
  {
   "cell_type": "code",
   "execution_count": 49,
   "id": "977ab1e7",
   "metadata": {},
   "outputs": [],
   "source": [
    "#function to compute logistic cost\n",
    "def compute_log_cost(xtrain, ytrain, w, b, reg_coeff):\n",
    "    \"\"\"\n",
    "    Objective- Compute and return the logistic cost\n",
    "    Arguments-\n",
    "    xtrain (2-D matrix)- training samples\n",
    "    ytrain (1-D array)- target outputs\n",
    "    w (1-D array)- weights parameter\n",
    "    b (scalar)- bias\n",
    "    reg_coeff- regularization coefficient lambda\n",
    "    \"\"\"\n",
    "    m, n = xtrain.shape\n",
    "    cost = 0.0\n",
    "    reg = 0.0\n",
    "    for i in range(m):\n",
    "        fx = np.dot(xtrain[i],w) + b\n",
    "        gz = sigmoid(fx)\n",
    "        loss = ytrain[i]*np.log(gz) + (1 - ytrain[i])*np.log(1 - gz)\n",
    "        cost = cost + loss\n",
    "    cost = cost/m\n",
    "    \n",
    "    #calculating regularization term\n",
    "    for j in range(n):\n",
    "        reg = reg + w[j]**2\n",
    "    \n",
    "    reg = reg * (reg_coeff/(2*m))\n",
    "    total_cost = cost + reg\n",
    "    return total_cost\n"
   ]
  },
  {
   "cell_type": "code",
   "execution_count": 77,
   "id": "43fa7831",
   "metadata": {},
   "outputs": [],
   "source": [
    "#function to compute gradient\n",
    "def compute_gradient(xtrain, ytrain, w, b):\n",
    "    m,n = xtrain.shape\n",
    "    dj_dw, dj_db = [], []\n",
    "    for i in range(m):\n",
    "        fx = np.dot(xtrain.iloc[i], w) + b\n",
    "        gz = sigmoid(fx)\n",
    "        err = gz - ytrain.iloc[i]\n",
    "        for j in range(n):\n",
    "            dj_dw[j] = dj_dw + err*xtrain.iloc[i][j]\n",
    "        dj_dw = dj_dw + err\n",
    "    #average\n",
    "    dj_dw = dj_dw/m\n",
    "    dj_db = dj_db/m\n",
    "    return dj_dw, dj_db"
   ]
  },
  {
   "cell_type": "code",
   "execution_count": 65,
   "id": "b68453e8",
   "metadata": {},
   "outputs": [],
   "source": [
    "def gradient_descent(xtrain, ytrain,w, b, alpha, iters, reg_coeff, compute_cost, compute_gradient):\n",
    "    w_in, b_in = w, b\n",
    "    J_history, w_history, b_history = [], [] ,[]\n",
    "    m,n = xtrain.shape\n",
    "    #regularization constant.\n",
    "    reg_term = 1 - alpha*(reg_coeff/m)\n",
    "    for i in range(iters):\n",
    "        \n",
    "        #compute gradient\n",
    "        dj_dw, dj_db = compute_gradient(xtrain, ytrain, w_in, b_in)\n",
    "        #simultaneous update\n",
    "        w_in = w_in*reg_term - alpha*dj_dw\n",
    "        b_in = b_in - dj_db\n",
    "        \n",
    "        #save cost and parameters history\n",
    "        if i < 100000:\n",
    "            J_history.append(compute_cost(xtrain, ytrain, w, b))\n",
    "            w_history.append(w_in)\n",
    "            b_history.append(b_in)\n",
    "        \n",
    "    return J_history, w_history, b_history, w_in, b_in"
   ]
  },
  {
   "cell_type": "code",
   "execution_count": 52,
   "id": "8a5c58eb",
   "metadata": {},
   "outputs": [],
   "source": [
    "#sigmoid function\n",
    "def sigmoid(x):\n",
    "    \"\"\"\n",
    "    Objective- compute the sigmoid value of given input\n",
    "    Argument- x (scalar/1-d array)- training sample(s)\n",
    "    Returns- scalar/1-d vector of sigmoid values.\n",
    "    \"\"\"\n",
    "\n",
    "    gz = 1/(1 + np.exp(-x))\n",
    "    \n",
    "    return gz"
   ]
  },
  {
   "cell_type": "code",
   "execution_count": 57,
   "id": "c80311a5",
   "metadata": {},
   "outputs": [],
   "source": [
    "#normalize the dataset\n",
    "def normalize(df):\n",
    "    \"\"\"\n",
    "    Objective- normalize the given dataframe.\n",
    "    Argument- df (1-d array)\n",
    "    Return- normalized dataframe, normalizing mean and standard deviation\n",
    "    \"\"\"\n",
    "    norm_mean = np.mean(df, axis = 0)\n",
    "    norm_sd = np.std(df, axis = 0)\n",
    "    norm_df = (df - norm_mean)/norm_sd\n",
    "    \n",
    "    return norm_mean, norm_sd, norm_df"
   ]
  },
  {
   "cell_type": "code",
   "execution_count": 58,
   "id": "242f4e11",
   "metadata": {},
   "outputs": [],
   "source": [
    "#Normalizing the dataset-----NaN values returned in age column!!!\n",
    "norm_mean, norm_sd, norm_xtrain = normalize(xtrain)"
   ]
  },
  {
   "cell_type": "code",
   "execution_count": 62,
   "id": "7bfc608b",
   "metadata": {},
   "outputs": [],
   "source": [
    "#Some other initializations\n",
    "alpha = 0.01\n",
    "lambda_ = 0.001\n",
    "w = np.zeros(xtrain.shape[1])\n",
    "b = 0\n",
    "iters = 100"
   ]
  },
  {
   "cell_type": "code",
   "execution_count": 78,
   "id": "36b92522",
   "metadata": {},
   "outputs": [
    {
     "ename": "IndexError",
     "evalue": "list assignment index out of range",
     "output_type": "error",
     "traceback": [
      "\u001b[1;31m---------------------------------------------------------------------------\u001b[0m",
      "\u001b[1;31mIndexError\u001b[0m                                Traceback (most recent call last)",
      "Cell \u001b[1;32mIn[78], line 2\u001b[0m\n\u001b[0;32m      1\u001b[0m \u001b[38;5;66;03m#call to gradient descnet\u001b[39;00m\n\u001b[1;32m----> 2\u001b[0m J_history, w_history, b_history, final_w, final_b \u001b[38;5;241m=\u001b[39m \u001b[43mgradient_descent\u001b[49m\u001b[43m(\u001b[49m\u001b[43mxtrain\u001b[49m\u001b[43m,\u001b[49m\u001b[43m \u001b[49m\u001b[43mytrain\u001b[49m\u001b[43m,\u001b[49m\u001b[43mw\u001b[49m\u001b[43m,\u001b[49m\u001b[43m \u001b[49m\u001b[43mb\u001b[49m\u001b[43m,\u001b[49m\u001b[43m \u001b[49m\n\u001b[0;32m      3\u001b[0m \u001b[43m                                                                     \u001b[49m\u001b[43malpha\u001b[49m\u001b[43m,\u001b[49m\u001b[43m \u001b[49m\u001b[43miters\u001b[49m\u001b[43m,\u001b[49m\u001b[43m \u001b[49m\u001b[43mlambda_\u001b[49m\u001b[43m,\u001b[49m\u001b[43m \u001b[49m\u001b[43mcompute_log_cost\u001b[49m\u001b[43m,\u001b[49m\u001b[43m \u001b[49m\u001b[43mcompute_gradient\u001b[49m\u001b[43m)\u001b[49m\n",
      "Cell \u001b[1;32mIn[65], line 10\u001b[0m, in \u001b[0;36mgradient_descent\u001b[1;34m(xtrain, ytrain, w, b, alpha, iters, reg_coeff, compute_cost, compute_gradient)\u001b[0m\n\u001b[0;32m      6\u001b[0m reg_term \u001b[38;5;241m=\u001b[39m \u001b[38;5;241m1\u001b[39m \u001b[38;5;241m-\u001b[39m alpha\u001b[38;5;241m*\u001b[39m(reg_coeff\u001b[38;5;241m/\u001b[39mm)\n\u001b[0;32m      7\u001b[0m \u001b[38;5;28;01mfor\u001b[39;00m i \u001b[38;5;129;01min\u001b[39;00m \u001b[38;5;28mrange\u001b[39m(iters):\n\u001b[0;32m      8\u001b[0m     \n\u001b[0;32m      9\u001b[0m     \u001b[38;5;66;03m#compute gradient\u001b[39;00m\n\u001b[1;32m---> 10\u001b[0m     dj_dw, dj_db \u001b[38;5;241m=\u001b[39m \u001b[43mcompute_gradient\u001b[49m\u001b[43m(\u001b[49m\u001b[43mxtrain\u001b[49m\u001b[43m,\u001b[49m\u001b[43m \u001b[49m\u001b[43mytrain\u001b[49m\u001b[43m,\u001b[49m\u001b[43m \u001b[49m\u001b[43mw_in\u001b[49m\u001b[43m,\u001b[49m\u001b[43m \u001b[49m\u001b[43mb_in\u001b[49m\u001b[43m)\u001b[49m\n\u001b[0;32m     11\u001b[0m     \u001b[38;5;66;03m#simultaneous update\u001b[39;00m\n\u001b[0;32m     12\u001b[0m     w_in \u001b[38;5;241m=\u001b[39m w_in\u001b[38;5;241m*\u001b[39mreg_term \u001b[38;5;241m-\u001b[39m alpha\u001b[38;5;241m*\u001b[39mdj_dw\n",
      "Cell \u001b[1;32mIn[77], line 10\u001b[0m, in \u001b[0;36mcompute_gradient\u001b[1;34m(xtrain, ytrain, w, b)\u001b[0m\n\u001b[0;32m      8\u001b[0m     err \u001b[38;5;241m=\u001b[39m gz \u001b[38;5;241m-\u001b[39m ytrain\u001b[38;5;241m.\u001b[39miloc[i]\n\u001b[0;32m      9\u001b[0m     \u001b[38;5;28;01mfor\u001b[39;00m j \u001b[38;5;129;01min\u001b[39;00m \u001b[38;5;28mrange\u001b[39m(n):\n\u001b[1;32m---> 10\u001b[0m         \u001b[43mdj_dw\u001b[49m\u001b[43m[\u001b[49m\u001b[43mj\u001b[49m\u001b[43m]\u001b[49m \u001b[38;5;241m=\u001b[39m dj_dw \u001b[38;5;241m+\u001b[39m err\u001b[38;5;241m*\u001b[39mxtrain\u001b[38;5;241m.\u001b[39miloc[i][j]\n\u001b[0;32m     11\u001b[0m     dj_dw \u001b[38;5;241m=\u001b[39m dj_dw \u001b[38;5;241m+\u001b[39m err\n\u001b[0;32m     12\u001b[0m \u001b[38;5;66;03m#average\u001b[39;00m\n",
      "\u001b[1;31mIndexError\u001b[0m: list assignment index out of range"
     ]
    }
   ],
   "source": [
    "#call to gradient descnet\n",
    "J_history, w_history, b_history, final_w, final_b = gradient_descent(xtrain, ytrain,w, b, \n",
    "                                                                     alpha, iters, lambda_, compute_log_cost, compute_gradient)"
   ]
  },
  {
   "cell_type": "code",
   "execution_count": null,
   "id": "a0434136",
   "metadata": {},
   "outputs": [],
   "source": [
    "#Equation for descision boundary."
   ]
  }
 ],
 "metadata": {
  "kernelspec": {
   "display_name": "Python 3 (ipykernel)",
   "language": "python",
   "name": "python3"
  },
  "language_info": {
   "codemirror_mode": {
    "name": "ipython",
    "version": 3
   },
   "file_extension": ".py",
   "mimetype": "text/x-python",
   "name": "python",
   "nbconvert_exporter": "python",
   "pygments_lexer": "ipython3",
   "version": "3.10.0"
  }
 },
 "nbformat": 4,
 "nbformat_minor": 5
}
