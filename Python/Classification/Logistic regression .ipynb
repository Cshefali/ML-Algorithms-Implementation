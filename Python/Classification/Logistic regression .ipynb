{
 "cells": [
  {
   "cell_type": "markdown",
   "id": "c15aee6d",
   "metadata": {},
   "source": [
    "### Implementation of logistic regression"
   ]
  },
  {
   "cell_type": "code",
   "execution_count": 1,
   "id": "dddc375f",
   "metadata": {},
   "outputs": [],
   "source": [
    "import numpy as np\n",
    "import pandas as pd\n",
    "import matplotlib.pyplot as plt\n",
    "import math"
   ]
  },
  {
   "cell_type": "code",
   "execution_count": 2,
   "id": "2ea10819",
   "metadata": {},
   "outputs": [],
   "source": [
    "#read dataset\n",
    "df1 = pd.read_csv('titanic_train.csv', index_col = False)"
   ]
  },
  {
   "cell_type": "code",
   "execution_count": 3,
   "id": "f93066c1",
   "metadata": {},
   "outputs": [
    {
     "data": {
      "text/plain": [
       "Index(['PassengerId', 'Survived', 'Pclass', 'Name', 'Sex', 'Age', 'SibSp',\n",
       "       'Parch', 'Ticket', 'Fare', 'Cabin', 'Embarked'],\n",
       "      dtype='object')"
      ]
     },
     "execution_count": 3,
     "metadata": {},
     "output_type": "execute_result"
    }
   ],
   "source": [
    "df1.columns"
   ]
  },
  {
   "cell_type": "code",
   "execution_count": 4,
   "id": "5c7c1bf0",
   "metadata": {},
   "outputs": [],
   "source": [
    "#convert the column names to lowercase\n",
    "df1.columns = df1.columns.str.lower()"
   ]
  },
  {
   "cell_type": "code",
   "execution_count": 6,
   "id": "f872a754",
   "metadata": {},
   "outputs": [],
   "source": [
    "#drop NaN values\n",
    "df1 = df1.dropna()"
   ]
  },
  {
   "cell_type": "code",
   "execution_count": 48,
   "id": "f43f73f0",
   "metadata": {},
   "outputs": [
    {
     "data": {
      "text/plain": [
       "survived\n",
       "0     60\n",
       "1    123\n",
       "dtype: int64"
      ]
     },
     "execution_count": 48,
     "metadata": {},
     "output_type": "execute_result"
    }
   ],
   "source": [
    "#number of samples per Survival group, 1- survived, 0-not survived\n",
    "df1.groupby('survived').size()"
   ]
  },
  {
   "cell_type": "code",
   "execution_count": 55,
   "id": "c866085e",
   "metadata": {},
   "outputs": [],
   "source": [
    "#taking equal samples (20) from each group\n",
    "#setting random_state value for reproducibility\n",
    "df1_sample = df1.groupby('survived').sample(n = 20, random_state = 1)\n",
    "df1_sample = df1_sample.loc[:,['survived','pclass','sex','age','fare']]"
   ]
  },
  {
   "cell_type": "code",
   "execution_count": 56,
   "id": "4c039093",
   "metadata": {},
   "outputs": [
    {
     "data": {
      "text/plain": [
       "dict_keys([0, 1])"
      ]
     },
     "execution_count": 56,
     "metadata": {},
     "output_type": "execute_result"
    }
   ],
   "source": [
    "#divide the dataframe into survival categories- 1- survived; 0-not survived\n",
    "survival_categories = df1_sample.groupby('survived')\n",
    "#view the keys\n",
    "survival_categories.groups.keys()"
   ]
  },
  {
   "cell_type": "code",
   "execution_count": 57,
   "id": "58fc1da4",
   "metadata": {},
   "outputs": [
    {
     "data": {
      "image/png": "[encoded data removed]",
      "text/plain": [
       "<Figure size 800x200 with 2 Axes>"
      ]
     },
     "metadata": {},
     "output_type": "display_data"
    }
   ],
   "source": [
    "#Plot for the data points\n",
    "fig, ax = plt.subplots(1, 2, figsize = (8,2))\n",
    "colors = ('red', 'blue')\n",
    "\n",
    "for name, group in survival_categories:\n",
    "    ax[0].scatter(group['fare'], group['survived'], marker = 'x', label = name)\n",
    "\n",
    "#Subplot 2\n",
    "ax[1].scatter(df1_sample.loc[:,'fare'], df1_sample.loc[:,'survived'])\n",
    "\n",
    "fig.suptitle(\"Training samples using 2 methods\")\n",
    "plt.show()\n"
   ]
  },
  {
   "cell_type": "code",
   "execution_count": 58,
   "id": "2c239f8e",
   "metadata": {},
   "outputs": [],
   "source": [
    "#selecting relevant columns and dividing into input and target values.\n",
    "xtrain = df1_sample.loc[:,['pclass','sex','age','fare']]\n",
    "ytrain = df1_sample.loc[:,'survived']\n",
    "#Convert Gender column from text to numeric- Male-0, female-1\n",
    "xtrain['sex_encoded'] = np.where(xtrain['sex'] == \"female\", 1, 0)"
   ]
  },
  {
   "cell_type": "code",
   "execution_count": 59,
   "id": "07c06cd4",
   "metadata": {},
   "outputs": [],
   "source": [
    "#remove the text gender column\n",
    "xtrain = xtrain.drop(['sex'], axis = 1)"
   ]
  },
  {
   "cell_type": "code",
   "execution_count": 60,
   "id": "8d8dc71c",
   "metadata": {},
   "outputs": [
    {
     "data": {
      "text/html": [
       "<div>\n",
       "<style scoped>\n",
       "    .dataframe tbody tr th:only-of-type {\n",
       "        vertical-align: middle;\n",
       "    }\n",
       "\n",
       "    .dataframe tbody tr th {\n",
       "        vertical-align: top;\n",
       "    }\n",
       "\n",
       "    .dataframe thead th {\n",
       "        text-align: right;\n",
       "    }\n",
       "</style>\n",
       "<table border=\"1\" class=\"dataframe\">\n",
       "  <thead>\n",
       "    <tr style=\"text-align: right;\">\n",
       "      <th></th>\n",
       "      <th>pclass</th>\n",
       "      <th>age</th>\n",
       "      <th>fare</th>\n",
       "      <th>sex_encoded</th>\n",
       "    </tr>\n",
       "  </thead>\n",
       "  <tbody>\n",
       "    <tr>\n",
       "      <th>505</th>\n",
       "      <td>1</td>\n",
       "      <td>18.0</td>\n",
       "      <td>108.9000</td>\n",
       "      <td>0</td>\n",
       "    </tr>\n",
       "    <tr>\n",
       "      <th>536</th>\n",
       "      <td>1</td>\n",
       "      <td>45.0</td>\n",
       "      <td>26.5500</td>\n",
       "      <td>0</td>\n",
       "    </tr>\n",
       "    <tr>\n",
       "      <th>54</th>\n",
       "      <td>1</td>\n",
       "      <td>65.0</td>\n",
       "      <td>61.9792</td>\n",
       "      <td>0</td>\n",
       "    </tr>\n",
       "    <tr>\n",
       "      <th>698</th>\n",
       "      <td>1</td>\n",
       "      <td>49.0</td>\n",
       "      <td>110.8833</td>\n",
       "      <td>0</td>\n",
       "    </tr>\n",
       "    <tr>\n",
       "      <th>715</th>\n",
       "      <td>3</td>\n",
       "      <td>19.0</td>\n",
       "      <td>7.6500</td>\n",
       "      <td>0</td>\n",
       "    </tr>\n",
       "  </tbody>\n",
       "</table>\n",
       "</div>"
      ],
      "text/plain": [
       "     pclass   age      fare  sex_encoded\n",
       "505       1  18.0  108.9000            0\n",
       "536       1  45.0   26.5500            0\n",
       "54        1  65.0   61.9792            0\n",
       "698       1  49.0  110.8833            0\n",
       "715       3  19.0    7.6500            0"
      ]
     },
     "execution_count": 60,
     "metadata": {},
     "output_type": "execute_result"
    }
   ],
   "source": [
    "xtrain.head(5)"
   ]
  },
  {
   "cell_type": "code",
   "execution_count": null,
   "id": "4c770a68",
   "metadata": {},
   "outputs": [],
   "source": [
    "# z = np.arange(-20, 20)\n",
    "# gz = 1/(1 + np.exp(-z))\n",
    "# np.c_[z, gz]"
   ]
  },
  {
   "cell_type": "code",
   "execution_count": null,
   "id": "85cb0f10",
   "metadata": {},
   "outputs": [],
   "source": [
    "# fig, ax = plt.subplots(1, 1, figsize = (5, 3))\n",
    "# ax.plot(z, gz, c = \"red\")\n",
    "# ax.axvline(x = 0, c = \"b\", ymin = min(gz), ymax = max(gz), linestyle = \":\")\n",
    "# plt.show()"
   ]
  },
  {
   "cell_type": "code",
   "execution_count": null,
   "id": "163202a8",
   "metadata": {},
   "outputs": [],
   "source": [
    "#sample data to show plot in next chunk\n",
    "x0 = np.arange(0, 6)\n",
    "x1 = 3 - x0\n",
    "np.c_[x0, x1]"
   ]
  },
  {
   "cell_type": "code",
   "execution_count": 21,
   "id": "1336d5bc",
   "metadata": {},
   "outputs": [
    {
     "data": {
      "image/png": "[encoded data removed]",
      "text/plain": [
       "<Figure size 400x400 with 1 Axes>"
      ]
     },
     "metadata": {},
     "output_type": "display_data"
    }
   ],
   "source": [
    "fig, ax = plt.subplots(1,1, figsize = (4,4))\n",
    "ax.plot(x0, x1, c = \"r\")\n",
    "ax.fill_between(x0, x1, alpha= 0.2)\n",
    "ax.scatter(x0, x1, c = \"blue\", marker = \"*\")\n",
    "plt.show()"
   ]
  },
  {
   "cell_type": "code",
   "execution_count": 61,
   "id": "977ab1e7",
   "metadata": {},
   "outputs": [],
   "source": [
    "#function to compute logistic cost\n",
    "def compute_log_cost(xtrain, ytrain, w, b, reg_coeff):\n",
    "    \"\"\"\n",
    "    Objective- Compute and return the logistic cost\n",
    "    Arguments-\n",
    "    xtrain (2-D matrix)- training samples\n",
    "    ytrain (1-D array)- target outputs\n",
    "    w (1-D array)- weights parameter\n",
    "    b (scalar)- bias\n",
    "    reg_coeff- regularization coefficient lambda\n",
    "    \"\"\"\n",
    "    m, n = xtrain.shape\n",
    "    cost = 0.0\n",
    "    reg = 0.0\n",
    "    for i in range(m):\n",
    "        fx = np.dot(xtrain.iloc[i],w) + b\n",
    "        gz = sigmoid(fx)\n",
    "        loss = ytrain.iloc[i]*np.log(gz) + (1 - ytrain.iloc[i])*np.log(1 - gz)\n",
    "        cost = cost + loss\n",
    "    cost = cost/m\n",
    "    \n",
    "    #calculating regularization term\n",
    "    for j in range(n):\n",
    "        reg = reg + w[j]**2\n",
    "    \n",
    "    reg = reg * (reg_coeff/(2*m))\n",
    "    total_cost = cost + reg\n",
    "    return total_cost\n"
   ]
  },
  {
   "cell_type": "code",
   "execution_count": 62,
   "id": "43fa7831",
   "metadata": {},
   "outputs": [],
   "source": [
    "#function to compute gradient\n",
    "def compute_gradient(xtrain, ytrain, w, b):\n",
    "    m,n = xtrain.shape\n",
    "    dj_dw = np.zeros(n)\n",
    "    dj_db = 0.0\n",
    "    for i in range(m):\n",
    "        fx = np.dot(xtrain.iloc[i], w) + b\n",
    "        gz = sigmoid(fx)\n",
    "        err = gz - ytrain.iloc[i]\n",
    "        for j in range(n):\n",
    "            dj_dw[j] = dj_dw[j] + err*xtrain.iloc[i][j]\n",
    "        dj_db = dj_db + err\n",
    "    #average\n",
    "    dj_dw = dj_dw/m\n",
    "    dj_db = dj_db/m\n",
    "    return dj_dw, dj_db"
   ]
  },
  {
   "cell_type": "code",
   "execution_count": 63,
   "id": "b68453e8",
   "metadata": {},
   "outputs": [],
   "source": [
    "def gradient_descent(xtrain, ytrain,w, b, alpha, iters, reg_coeff, compute_cost, compute_gradient):\n",
    "    w_in, b_in = w, b\n",
    "    J_history, w_history, b_history = [], [] ,[]\n",
    "    m,n = xtrain.shape\n",
    "    #regularization constant.\n",
    "    reg_term = 1 - alpha*(reg_coeff/m)\n",
    "    for i in range(iters):\n",
    "        \n",
    "        #compute gradient\n",
    "        dj_dw, dj_db = compute_gradient(xtrain, ytrain, w_in, b_in)\n",
    "        #simultaneous update\n",
    "        w_in = w_in*reg_term - alpha*dj_dw\n",
    "        b_in = b_in - dj_db\n",
    "        \n",
    "        #save cost and parameters history\n",
    "        if i < 100000:\n",
    "            J_history.append(compute_cost(xtrain, ytrain, w_in, b_in, reg_coeff))\n",
    "            w_history.append(w_in)\n",
    "            b_history.append(b_in)\n",
    "        \n",
    "    return J_history, w_history, b_history, w_in, b_in"
   ]
  },
  {
   "cell_type": "code",
   "execution_count": 64,
   "id": "8a5c58eb",
   "metadata": {},
   "outputs": [],
   "source": [
    "#sigmoid function\n",
    "def sigmoid(x):\n",
    "    \"\"\"\n",
    "    Objective- compute the sigmoid value of given input\n",
    "    Argument- x (scalar/1-d array)- training sample(s)\n",
    "    Returns- scalar/1-d vector of sigmoid values.\n",
    "    \"\"\"\n",
    "\n",
    "    gz = 1/(1 + np.exp(-x))\n",
    "    \n",
    "    return gz"
   ]
  },
  {
   "cell_type": "code",
   "execution_count": 67,
   "id": "c80311a5",
   "metadata": {},
   "outputs": [],
   "source": [
    "#normalize the dataset\n",
    "def normalize(df):\n",
    "    \"\"\"\n",
    "    Objective- normalize the given dataframe.\n",
    "    Argument- df (1-d array)\n",
    "    Return- normalized dataframe, normalizing mean and standard deviation\n",
    "    \"\"\"\n",
    "    norm_mean = np.mean(df, axis = 0)\n",
    "    norm_sd = np.std(df, axis = 0)\n",
    "    norm_df = (df - norm_mean)/norm_sd\n",
    "    \n",
    "    return norm_mean, norm_sd, norm_df"
   ]
  },
  {
   "cell_type": "code",
   "execution_count": 68,
   "id": "242f4e11",
   "metadata": {},
   "outputs": [],
   "source": [
    "#Normalizing the dataset-----NaN values returned in age column!!!\n",
    "norm_mean, norm_sd, norm_xtrain = normalize(xtrain)"
   ]
  },
  {
   "cell_type": "code",
   "execution_count": 75,
   "id": "7bfc608b",
   "metadata": {},
   "outputs": [],
   "source": [
    "#Some other initializations\n",
    "alpha = 0.00001\n",
    "lambda_ = 0\n",
    "w = np.zeros(xtrain.shape[1])\n",
    "b = 0\n",
    "iters = 50"
   ]
  },
  {
   "cell_type": "code",
   "execution_count": 76,
   "id": "36b92522",
   "metadata": {},
   "outputs": [],
   "source": [
    "#call to gradient descnet\n",
    "J_history, w_history, b_history, final_w, final_b = gradient_descent(norm_xtrain, ytrain,w, b, \n",
    "                                                                     alpha, iters, lambda_, compute_log_cost, compute_gradient)"
   ]
  },
  {
   "cell_type": "code",
   "execution_count": 80,
   "id": "a0434136",
   "metadata": {},
   "outputs": [
    {
     "data": {
      "image/png": "[encoded data removed]",
      "text/plain": [
       "<Figure size 600x400 with 1 Axes>"
      ]
     },
     "metadata": {},
     "output_type": "display_data"
    }
   ],
   "source": [
    "#Learning curve plot\n",
    "fig, ax = plt.subplots(1,1, figsize = (6,4))\n",
    "\n",
    "ax.plot(J_history, c = \"red\")\n",
    "#ax[1].plot(J_history[80:100], c = \"blue\")\n",
    "plt.show()"
   ]
  },
  {
   "cell_type": "code",
   "execution_count": 85,
   "id": "a3ff40b6",
   "metadata": {},
   "outputs": [],
   "source": [
    "test_data = pd.read_csv('titanic_test.csv', index_col = False)\n",
    "#convert columns to lowercase\n",
    "test_data.columns = test_data.columns.str.lower()\n",
    "#select relevant columns\n",
    "test_data = test_data.loc[:,['pclass','sex','age','fare']]\n",
    "#Convert Gender column from text to numeric- Male-0, female-1\n",
    "test_data['sex_encoded'] = np.where(test_data['sex'] == \"female\", 1, 0)"
   ]
  },
  {
   "cell_type": "code",
   "execution_count": null,
   "id": "b214f8c5",
   "metadata": {},
   "outputs": [],
   "source": [
    "#select 7 samples and remove the sex column\n",
    "test_data = test_data[0:7].drop(['sex'], axis = 1)\n",
    "test_data"
   ]
  },
  {
   "cell_type": "code",
   "execution_count": null,
   "id": "2a8681a2",
   "metadata": {},
   "outputs": [],
   "source": [
    "#normalize the test data using norm_mean, norm_sd of training samples\n",
    "norm_test_data = test_data - norm_mean\n",
    "norm_test_data = norm_test_data/norm_sd\n",
    "#display the data\n",
    "norm_test_data"
   ]
  },
  {
   "cell_type": "code",
   "execution_count": 101,
   "id": "ca9745e4",
   "metadata": {},
   "outputs": [],
   "source": [
    "#take random sample from training dataset to compare model prediction and target\n",
    "validation_data = df1.groupby('survived').sample(n = 3, random_state = 1)\n",
    "validation_data = validation_data.loc[:,['survived','pclass','sex','age','fare']]\n",
    "validation_x = validation_data.loc[:,['pclass','sex','age','fare']]\n",
    "validation_y = validation_data.loc[:,'survived']\n",
    "#Convert Gender column from text to numeric- Male-0, female-1\n",
    "validation_x['sex_encoded'] = np.where(validation_x['sex'] == \"female\", 1, 0)\n",
    "#remove the sex column\n",
    "validation_x = validation_x.drop(['sex'], axis = 1)"
   ]
  },
  {
   "cell_type": "code",
   "execution_count": 102,
   "id": "f7097dc4",
   "metadata": {},
   "outputs": [],
   "source": [
    "#normalize the x data\n",
    "norm_validx = (validation_x - norm_mean)/norm_sd\n",
    "norm_validx"
   ]
  },
  {
   "cell_type": "code",
   "execution_count": 104,
   "id": "360ad7e0",
   "metadata": {},
   "outputs": [],
   "source": [
    "#Predict model output\n",
    "fx = np.dot(norm_validx, final_w) + final_b\n",
    "gz = sigmoid(fx)\n"
   ]
  },
  {
   "cell_type": "code",
   "execution_count": 105,
   "id": "dbea4fa6",
   "metadata": {},
   "outputs": [],
   "source": [
    "prediction = np.where(gz >=0.5, 1,0)"
   ]
  },
  {
   "cell_type": "code",
   "execution_count": 106,
   "id": "24488284",
   "metadata": {},
   "outputs": [
    {
     "data": {
      "text/plain": [
       "array([[0, 0],\n",
       "       [0, 0],\n",
       "       [0, 0],\n",
       "       [1, 1],\n",
       "       [1, 1],\n",
       "       [0, 1]], dtype=int64)"
      ]
     },
     "execution_count": 106,
     "metadata": {},
     "output_type": "execute_result"
    }
   ],
   "source": [
    "#printing prediction and target side by side--only 1 mismatch\n",
    "np.c_[prediction, validation_y]"
   ]
  }
 ],
 "metadata": {
  "kernelspec": {
   "display_name": "Python 3 (ipykernel)",
   "language": "python",
   "name": "python3"
  },
  "language_info": {
   "codemirror_mode": {
    "name": "ipython",
    "version": 3
   },
   "file_extension": ".py",
   "mimetype": "text/x-python",
   "name": "python",
   "nbconvert_exporter": "python",
   "pygments_lexer": "ipython3",
   "version": "3.10.0"
  }
 },
 "nbformat": 4,
 "nbformat_minor": 5
}
