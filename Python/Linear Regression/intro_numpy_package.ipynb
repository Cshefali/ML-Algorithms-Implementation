{
 "cells": [
  {
   "cell_type": "markdown",
   "id": "be80cdf0",
   "metadata": {},
   "source": [
    "DESCRIPTION LATER ON!"
   ]
  },
  {
   "cell_type": "code",
   "execution_count": 1,
   "id": "f0a912fc",
   "metadata": {},
   "outputs": [],
   "source": [
    "import numpy as np\n",
    "import matplotlib.pyplot as plt\n",
    "import time"
   ]
  },
  {
   "cell_type": "code",
   "execution_count": 19,
   "id": "e06cea0a",
   "metadata": {},
   "outputs": [
    {
     "name": "stdout",
     "output_type": "stream",
     "text": [
      "a = np.zeros(4): [0. 0. 0. 0.], a.shape: (4,), a data type: float64\n",
      "a = np.zeros((4,)): [0. 0. 0. 0.], a.shape: (4,), a data type: float64\n"
     ]
    }
   ],
   "source": [
    "#creating arrays with numpy\n",
    "a = np.zeros(4)\n",
    "print(f\"a = np.zeros(4): {a}, a.shape: {a.shape}, a data type: {a.dtype}\")\n",
    "a = np.zeros((4,))\n",
    "print(f\"a = np.zeros((4,)): {a}, a.shape: {a.shape}, a data type: {a.dtype}\")"
   ]
  },
  {
   "cell_type": "code",
   "execution_count": 6,
   "id": "cd010b6b",
   "metadata": {},
   "outputs": [
    {
     "name": "stdout",
     "output_type": "stream",
     "text": [
      "a with random values: [0.13680701 0.67266195 0.73827361 0.18462016], a.shape: (4,), a data type: float64\n"
     ]
    }
   ],
   "source": [
    "#creating 1D array with random values\n",
    "a = np.random.random_sample(4)\n",
    "print(f\"a with random values: {a}, a.shape: {a.shape}, a data type: {a.dtype}\")"
   ]
  },
  {
   "cell_type": "code",
   "execution_count": 22,
   "id": "e130b7ff",
   "metadata": {},
   "outputs": [
    {
     "data": {
      "text/plain": [
       "4"
      ]
     },
     "execution_count": 22,
     "metadata": {},
     "output_type": "execute_result"
    }
   ],
   "source": [
    "p = np.zeros()"
   ]
  },
  {
   "cell_type": "code",
   "execution_count": 13,
   "id": "da0e02e7",
   "metadata": {},
   "outputs": [
    {
     "name": "stdout",
     "output_type": "stream",
     "text": [
      "random.rand a : [0.82678191 0.95455564 0.88293828 0.53000777], a.shape: (4,), a.dtype: float64\n",
      "arange a: [0 1 2 3], a.shape: (4,), a.dtype: int32\n"
     ]
    }
   ],
   "source": [
    "#some data creation routines do not take tuples\n",
    "a = np.random.rand(4)\n",
    "print(f\"random.rand a : {a}, a.shape: {a.shape}, a.dtype: {a.dtype}\")\n",
    "a = np.arange(4)\n",
    "print(f\"arange a: {a}, a.shape: {a.shape}, a.dtype: {a.dtype}\")"
   ]
  },
  {
   "cell_type": "code",
   "execution_count": 15,
   "id": "5a525252",
   "metadata": {},
   "outputs": [
    {
     "data": {
      "text/plain": [
       "array([[0.80222726, 0.1248089 , 0.77339545, 0.98631312, 0.94934504],\n",
       "       [0.27645572, 0.57555558, 0.84087774, 0.32464005, 0.2226991 ],\n",
       "       [0.45420501, 0.51864012, 0.6522151 , 0.55264413, 0.165612  ]])"
      ]
     },
     "execution_count": 15,
     "metadata": {},
     "output_type": "execute_result"
    }
   ],
   "source": [
    "a = np.random.random_sample((3,5))\n",
    "a"
   ]
  },
  {
   "cell_type": "code",
   "execution_count": 18,
   "id": "a7aa892c",
   "metadata": {},
   "outputs": [
    {
     "data": {
      "text/plain": [
       "array([[0.09837877, 0.85459177, 0.77010263, 0.89984434, 0.04968621],\n",
       "       [0.13946945, 0.39708418, 0.26231707, 0.8592016 , 0.71555755],\n",
       "       [0.98998484, 0.03403305, 0.82824581, 0.16516555, 0.05226473]])"
      ]
     },
     "execution_count": 18,
     "metadata": {},
     "output_type": "execute_result"
    }
   ],
   "source": [
    "a = np.random.rand(3,5)\n",
    "a"
   ]
  },
  {
   "cell_type": "code",
   "execution_count": 23,
   "id": "17164a47",
   "metadata": {},
   "outputs": [],
   "source": [
    "def dot_product(a, b):\n",
    "    \"\"\"\n",
    "    Objective- find the dot product of the 2 1-D vectors a and b\n",
    "    Returns: scalar value of the product.\n",
    "    \"\"\"\n",
    "    n = a.shape[0]\n",
    "    prod = 0.0\n",
    "    for i in range(n):\n",
    "        prod = prod + a[i]*b[i]\n",
    "    return prod"
   ]
  },
  {
   "cell_type": "code",
   "execution_count": 24,
   "id": "bb894409",
   "metadata": {},
   "outputs": [
    {
     "name": "stdout",
     "output_type": "stream",
     "text": [
      "a: [0.20277486 0.24350714 0.38226407]\n",
      "b: [0.89941738 0.01890982 0.98821739]\n"
     ]
    }
   ],
   "source": [
    "a = np.random.rand(3)\n",
    "b = np.random.rand(3)\n",
    "print(f\"a: {a}\\nb: {b}\")"
   ]
  },
  {
   "cell_type": "code",
   "execution_count": 29,
   "id": "467d312e",
   "metadata": {},
   "outputs": [
    {
     "name": "stdout",
     "output_type": "stream",
     "text": [
      "0.5647\n"
     ]
    }
   ],
   "source": [
    "print(round(dot_product(a,b),4))"
   ]
  },
  {
   "cell_type": "code",
   "execution_count": 34,
   "id": "939550ac",
   "metadata": {},
   "outputs": [
    {
     "name": "stdout",
     "output_type": "stream",
     "text": [
      "Initial time: 1686307433.6592886\n",
      "Final time: 1686307438.3383396\n",
      "Time taken: 4679.050922393799 milliseconds\n"
     ]
    }
   ],
   "source": [
    "#Checking the speed of our created function and numpy dot product\n",
    "\n",
    "#create large arrays\n",
    "a = np.random.rand(10000000)\n",
    "b = np.random.rand(10000000)\n",
    "initial_time = time.time()\n",
    "prod1 = dot_product(a,b)\n",
    "final_time = time.time()\n",
    "print(f\"Initial time: {initial_time}\\nFinal time: {final_time}\\nTime taken: {(final_time - initial_time)*1000} milliseconds\")"
   ]
  },
  {
   "cell_type": "code",
   "execution_count": 35,
   "id": "39bf98c5",
   "metadata": {},
   "outputs": [
    {
     "name": "stdout",
     "output_type": "stream",
     "text": [
      "Time taken using Numpy dot product: 16.017913818359375 milliseconds\n"
     ]
    }
   ],
   "source": [
    "#repeat same process, now using numpy dot product\n",
    "i_time = time.time()\n",
    "prod2 = np.dot(a,b)\n",
    "f_time = time.time()\n",
    "print(f\"Time taken using Numpy dot product: {(f_time - i_time)*1000} milliseconds\")"
   ]
  },
  {
   "cell_type": "code",
   "execution_count": 36,
   "id": "509042f1",
   "metadata": {},
   "outputs": [],
   "source": [
    "#remove these big arrays from memory\n",
    "del(a)\n",
    "del(b)"
   ]
  },
  {
   "cell_type": "code",
   "execution_count": 44,
   "id": "2d62ee8f",
   "metadata": {},
   "outputs": [
    {
     "name": "stdout",
     "output_type": "stream",
     "text": [
      "[[ 0  1  2]\n",
      " [ 3  4  5]\n",
      " [ 6  7  8]\n",
      " [ 9 10 11]]\n"
     ]
    }
   ],
   "source": [
    "#reshape() is a convinient method to create matrices in numpy\n",
    "#-1 signifies unknown dimension.\n",
    "arr1 = np.arange(12).reshape(-1,3)\n",
    "print(arr1)"
   ]
  },
  {
   "cell_type": "code",
   "execution_count": 48,
   "id": "d9ce8e32",
   "metadata": {},
   "outputs": [
    {
     "data": {
      "text/plain": [
       "(3,)"
      ]
     },
     "execution_count": 48,
     "metadata": {},
     "output_type": "execute_result"
    }
   ],
   "source": [
    "#accessing elements of matrix by specifying only row number\n",
    "arr1[3].shape"
   ]
  },
  {
   "cell_type": "code",
   "execution_count": 57,
   "id": "4bfab6d5",
   "metadata": {},
   "outputs": [
    {
     "data": {
      "text/plain": [
       "array([[3, 4, 5],\n",
       "       [6, 7, 8]])"
      ]
     },
     "execution_count": 57,
     "metadata": {},
     "output_type": "execute_result"
    }
   ],
   "source": [
    "#slicing & indexing through the matrix\n",
    "arr1[1:-1]"
   ]
  },
  {
   "cell_type": "code",
   "execution_count": 64,
   "id": "ab812995",
   "metadata": {},
   "outputs": [
    {
     "name": "stdout",
     "output_type": "stream",
     "text": [
      "All elements of row 1 of arr1 = arr1[1,:]: [3 4 5]\n",
      "1st row of arr1 = arr1[1]: [3 4 5]\n",
      "2nd and 3rd element of row 1 = arr1[1,1:3]: [4 5]\n",
      "1st and 2nd element of row 1 = arr1[1,0:2]: [3 4]\n"
     ]
    }
   ],
   "source": [
    "#return all elements of 1st row\n",
    "print(f\"All elements of row 1 of arr1 = arr1[1,:]: {arr1[1,:]}\")\n",
    "#return the first row\n",
    "print(f\"1st row of arr1 = arr1[1]: {arr1[1]}\")\n",
    "#return 2nd and 3rd values from 1st row\n",
    "print(f\"2nd and 3rd element of row 1 = arr1[1,1:3]: {arr1[1,1:3]}\")\n",
    "#return 1st and 2nd values from 1st row\n",
    "print(f\"1st and 2nd element of row 1 = arr1[1,0:2]: {arr1[1,0:2]}\")"
   ]
  },
  {
   "cell_type": "code",
   "execution_count": 6,
   "id": "86ec1932",
   "metadata": {},
   "outputs": [],
   "source": [
    "a = np.zeros((4,))\n",
    "b = np.zeros(4)"
   ]
  },
  {
   "cell_type": "code",
   "execution_count": 7,
   "id": "5731266c",
   "metadata": {},
   "outputs": [
    {
     "name": "stdout",
     "output_type": "stream",
     "text": [
      "a.shape: (4,), a.type: float64\n"
     ]
    }
   ],
   "source": [
    "print(f\"a.shape: {a.shape}, a.type: {a.dtype}\")"
   ]
  },
  {
   "cell_type": "code",
   "execution_count": 8,
   "id": "bb71aaab",
   "metadata": {},
   "outputs": [
    {
     "name": "stdout",
     "output_type": "stream",
     "text": [
      "b.shape: (4,), b.type: float64\n"
     ]
    }
   ],
   "source": [
    "print(f\"b.shape: {b.shape}, b.type: {b.dtype}\")"
   ]
  },
  {
   "cell_type": "markdown",
   "id": "6f675f0c",
   "metadata": {},
   "source": [
    "#### Numpy Mean"
   ]
  },
  {
   "cell_type": "code",
   "execution_count": 11,
   "id": "d92ee985",
   "metadata": {},
   "outputs": [],
   "source": [
    "a1 = np.array([10, 1, 13, 15, 46])\n",
    "b1 = np.zeros_like(a1)"
   ]
  },
  {
   "cell_type": "code",
   "execution_count": 15,
   "id": "420c55d7",
   "metadata": {},
   "outputs": [],
   "source": [
    "mean1 = np.mean(a1, keepdims = True)"
   ]
  },
  {
   "cell_type": "code",
   "execution_count": 17,
   "id": "21e498be",
   "metadata": {},
   "outputs": [
    {
     "name": "stdout",
     "output_type": "stream",
     "text": [
      "a1.dtype: int32, mean1.dtype: float64\n"
     ]
    }
   ],
   "source": [
    "#even though an int32 array is the input to mean, output is of type float64.\n",
    "print(f\"a1.dtype: {a1.dtype}, mean1.dtype: {mean1.dtype}\")"
   ]
  },
  {
   "cell_type": "code",
   "execution_count": 22,
   "id": "4f3bb698",
   "metadata": {},
   "outputs": [],
   "source": [
    "#2-D array mean\n",
    "\n",
    "#create 2-D array; 9 rows, 4 columns.\n",
    "a2 = np.arange(start = 0, stop = 36, step = 1).reshape(9,4)"
   ]
  },
  {
   "cell_type": "code",
   "execution_count": 32,
   "id": "76f4c5be",
   "metadata": {},
   "outputs": [
    {
     "name": "stdout",
     "output_type": "stream",
     "text": [
      "colmean1.shape: (4,), colmean1.dtype: float64, type(colmean1): <class 'numpy.ndarray'>\n",
      "colmean2.shape: (1, 4), colmean2.dtype: float64, type(colmean1): <class 'numpy.ndarray'>\n"
     ]
    }
   ],
   "source": [
    "#mean of each column with 'keepdims = False'\n",
    "colmean1 = np.mean(a2, axis = 0)\n",
    "#mean of each column with 'keepdims = True'\n",
    "colmean2 = np.mean(a2, axis = 0, keepdims = True)\n",
    "\n",
    "#dimensions of above 2 objects\n",
    "print(f\"colmean1.shape: {colmean1.shape}, colmean1.dtype: {colmean1.dtype}, type(colmean1): {type(colmean1)}\")\n",
    "print(f\"colmean2.shape: {colmean2.shape}, colmean2.dtype: {colmean2.dtype}, type(colmean1): {type(colmean2)}\")"
   ]
  },
  {
   "cell_type": "code",
   "execution_count": 33,
   "id": "c41fb4b3",
   "metadata": {},
   "outputs": [
    {
     "name": "stdout",
     "output_type": "stream",
     "text": [
      "rowmean1.shape: (9,), rowmean1.dtype: float64, type(rowmean1): <class 'numpy.ndarray'>\n",
      "rowmean2.shape: (9, 1), rowmean2.dtype: float64, type(rowmean2): <class 'numpy.ndarray'>\n"
     ]
    }
   ],
   "source": [
    "#mean of each row with 'keepdims = False'\n",
    "rowmean1 = np.mean(a2, axis = 1)\n",
    "#mean of each row with 'keepdims = True'\n",
    "rowmean2 = np.mean(a2, axis = 1, keepdims = True)\n",
    "\n",
    "#dimensions of above 2 arrays\n",
    "print(f\"rowmean1.shape: {rowmean1.shape}, rowmean1.dtype: {rowmean1.dtype}, type(rowmean1): {type(rowmean1)}\")\n",
    "print(f\"rowmean2.shape: {rowmean2.shape}, rowmean2.dtype: {rowmean2.dtype}, type(rowmean2): {type(rowmean2)}\")"
   ]
  },
  {
   "cell_type": "markdown",
   "id": "e89d7e97",
   "metadata": {},
   "source": [
    "#### Understanding usage of 'keepdims' argument"
   ]
  },
  {
   "cell_type": "code",
   "execution_count": 38,
   "id": "755ed375",
   "metadata": {},
   "outputs": [
    {
     "name": "stdout",
     "output_type": "stream",
     "text": [
      "Dimension of 2-D array a1 is: 2\n",
      "Dimension of output of np.mean(a2) is: 0, #0 dim means scalar o/p\n",
      "Dimension of output when keepdims=True, rowmean2: 2, #2 dim means 2-D\n",
      "Dimension of output when keepdims=True, colmean2: 2, #2 dim means 2-D array returned\n",
      "So, keepdims=True ensures that if n-D array is taken as input, n-D array gets returned\n"
     ]
    }
   ],
   "source": [
    "print(f\"Dimension of 2-D array a1 is: {a2.ndim}\")\n",
    "print(f\"Dimension of output of np.mean(a2) is: {(np.mean(a2)).ndim}, #0 dim means scalar o/p\")\n",
    "print(f\"Dimension of output when keepdims=True, rowmean2: {rowmean2.ndim}, #2 dim means 2-D\")\n",
    "print(f\"Dimension of output when keepdims=True, colmean2: {colmean2.ndim}, #2 dim means 2-D array returned\")\n",
    "print(\"So, keepdims=True ensures that if n-D array is taken as input, n-D array gets returned\")"
   ]
  }
 ],
 "metadata": {
  "kernelspec": {
   "display_name": "Python 3 (ipykernel)",
   "language": "python",
   "name": "python3"
  },
  "language_info": {
   "codemirror_mode": {
    "name": "ipython",
    "version": 3
   },
   "file_extension": ".py",
   "mimetype": "text/x-python",
   "name": "python",
   "nbconvert_exporter": "python",
   "pygments_lexer": "ipython3",
   "version": "3.10.0"
  }
 },
 "nbformat": 4,
 "nbformat_minor": 5
}
