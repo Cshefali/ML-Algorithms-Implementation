{
 "cells": [
  {
   "cell_type": "markdown",
   "id": "87a4b8b2",
   "metadata": {},
   "source": [
    "## Demonstration of Polynomial Regression"
   ]
  },
  {
   "cell_type": "code",
   "execution_count": 19,
   "id": "6f4595e6",
   "metadata": {},
   "outputs": [],
   "source": [
    "import numpy as np\n",
    "import matplotlib.pyplot as plt\n",
    "import math\n",
    "import random"
   ]
  },
  {
   "cell_type": "markdown",
   "id": "e8e07ef2",
   "metadata": {},
   "source": [
    "### Using straight line function to fit non-linear data"
   ]
  },
  {
   "cell_type": "code",
   "execution_count": 20,
   "id": "e0c1f564",
   "metadata": {},
   "outputs": [],
   "source": [
    "#function for Zscore normalization\n",
    "def zscore_norm(df):\n",
    "    mu = np.mean(df)\n",
    "    sd = np.std(df)\n",
    "    df2 = df-mu\n",
    "    df3 = df2/sd\n",
    "    \n",
    "    return df3, mu, sd"
   ]
  },
  {
   "cell_type": "code",
   "execution_count": 21,
   "id": "b4942a1e",
   "metadata": {},
   "outputs": [],
   "source": [
    "#function to compute cost using straight line model (y = mx + c)\n",
    "def compute_cost(xtrain, ytrain, w, b):\n",
    "    \"\"\"\n",
    "    Compute least-squared error cost for straight line function\n",
    "    \"\"\"\n",
    "    m = xtrain.shape[0]\n",
    "    cost = 0.0\n",
    "    for i in range(m):\n",
    "        fx = xtrain[i]*w + b\n",
    "        err = fx - ytrain[i]\n",
    "        cost = cost + err**2\n",
    "    cost = cost/(2*m)\n",
    "    return cost"
   ]
  },
  {
   "cell_type": "code",
   "execution_count": 22,
   "id": "04c0a6ec",
   "metadata": {},
   "outputs": [],
   "source": [
    "#function to compute gradient of cost w.r.t w and b\n",
    "def compute_gradient(xtrain, ytrain, w, b):\n",
    "    \"\"\"\n",
    "    Compute gradient of Cost w.r.t w and b for straight line function\n",
    "    \"\"\"\n",
    "    m = xtrain.shape[0]\n",
    "    dj_dw = 0.0\n",
    "    dj_db = 0.0\n",
    "    for i in range(m):\n",
    "        fx = xtrain[i]*w + b\n",
    "        err = fx - ytrain[i]\n",
    "        dj_dw = dj_dw + (err*xtrain[i])\n",
    "        dj_db = dj_db + err\n",
    "    #average\n",
    "    dj_dw = dj_dw/m\n",
    "    dj_db = dj_db/m\n",
    "    \n",
    "    return dj_dw, dj_db"
   ]
  },
  {
   "cell_type": "code",
   "execution_count": 23,
   "id": "5d04d96b",
   "metadata": {},
   "outputs": [],
   "source": [
    "#function to implement gradient descent\n",
    "def gradient_descent(xtrain, ytrain, w, b, alpha, iters, compute_cost, compute_gradient):\n",
    "    \"\"\"\n",
    "    Run gradient descent for straight line function\n",
    "    \"\"\"\n",
    "    w_in, b_in = w, b\n",
    "    J_history = []; p_history = []\n",
    "    for i in range(iters):\n",
    "        dj_dw, dj_db = compute_gradient(xtrain, ytrain, w, b)\n",
    "        \n",
    "        #simultaneous updation of parameters\n",
    "        w_in = w_in - alpha*dj_dw\n",
    "        b_in = b_in - alpha*dj_db\n",
    "        \n",
    "        #store cost and parameters history\n",
    "        if i < 100000:\n",
    "            J_history.append(compute_cost(xtrain, ytrain, w_in, b_in))\n",
    "            p_history.append((w_in,b_in))\n",
    "        \n",
    "        #printing cost at some intervals\n",
    "        if i%math.ceil(iters/10) == 0:\n",
    "            print(f\"Iteration: {i}, Cost: {J_history[-1]}\")\n",
    "        \n",
    "    return J_history, p_history, w_in, b_in"
   ]
  },
  {
   "cell_type": "code",
   "execution_count": 24,
   "id": "d57fa818",
   "metadata": {},
   "outputs": [
    {
     "name": "stdout",
     "output_type": "stream",
     "text": [
      "x0: [0],\t y0: [1]\n",
      "x1: [1],\t y1: [2]\n",
      "x2: [2],\t y2: [5]\n",
      "x3: [3],\t y3: [10]\n",
      "x4: [4],\t y4: [17]\n",
      "x5: [5],\t y5: [26]\n",
      "x6: [6],\t y6: [37]\n",
      "x7: [7],\t y7: [50]\n",
      "x8: [8],\t y8: [65]\n",
      "x9: [9],\t y9: [82]\n",
      "x10: [10],\t y10: [101]\n",
      "x11: [11],\t y11: [122]\n",
      "x12: [12],\t y12: [145]\n",
      "x13: [13],\t y13: [170]\n",
      "x14: [14],\t y14: [197]\n",
      "x15: [15],\t y15: [226]\n",
      "x16: [16],\t y16: [257]\n",
      "x17: [17],\t y17: [290]\n",
      "x18: [18],\t y18: [325]\n",
      "x19: [19],\t y19: [362]\n",
      "x20: [20],\t y20: [401]\n",
      "x21: [21],\t y21: [442]\n",
      "x22: [22],\t y22: [485]\n",
      "x23: [23],\t y23: [530]\n",
      "x24: [24],\t y24: [577]\n",
      "x25: [25],\t y25: [626]\n",
      "x26: [26],\t y26: [677]\n",
      "x27: [27],\t y27: [730]\n",
      "x28: [28],\t y28: [785]\n",
      "x29: [29],\t y29: [842]\n",
      "x30: [30],\t y30: [901]\n",
      "x31: [31],\t y31: [962]\n",
      "x32: [32],\t y32: [1025]\n",
      "x33: [33],\t y33: [1090]\n",
      "x34: [34],\t y34: [1157]\n",
      "x35: [35],\t y35: [1226]\n",
      "x36: [36],\t y36: [1297]\n",
      "x37: [37],\t y37: [1370]\n",
      "x38: [38],\t y38: [1445]\n",
      "x39: [39],\t y39: [1522]\n",
      "x40: [40],\t y40: [1601]\n",
      "x41: [41],\t y41: [1682]\n",
      "x42: [42],\t y42: [1765]\n",
      "x43: [43],\t y43: [1850]\n",
      "x44: [44],\t y44: [1937]\n",
      "x45: [45],\t y45: [2026]\n",
      "x46: [46],\t y46: [2117]\n",
      "x47: [47],\t y47: [2210]\n",
      "x48: [48],\t y48: [2305]\n",
      "x49: [49],\t y49: [2402]\n",
      "x50: [50],\t y50: [2501]\n"
     ]
    }
   ],
   "source": [
    "#dataset\n",
    "#20 random numbers between 0 to 50\n",
    "x = np.arange(0,51,1)\n",
    "x = x.reshape(-1,1)\n",
    "y = 1 + x**2\n",
    "\n",
    "for i in range(len(x)):\n",
    "    print(f\"x{i}: {x[i]},\\t y{i}: {y[i]}\")"
   ]
  },
  {
   "cell_type": "code",
   "execution_count": 25,
   "id": "a8c1bbec",
   "metadata": {},
   "outputs": [],
   "source": [
    "#Normalize the dataset\n",
    "x_norm, x_mu, x_sd = zscore_norm(x)\n",
    "y_norm, y_mu, y_sd = zscore_norm(y)"
   ]
  },
  {
   "cell_type": "code",
   "execution_count": 26,
   "id": "c1119611",
   "metadata": {},
   "outputs": [
    {
     "name": "stdout",
     "output_type": "stream",
     "text": [
      "Iteration: 0, Cost: [33353091.13324444]\n",
      "Iteration: 50, Cost: [1.11042506e+11]\n",
      "Iteration: 100, Cost: [4.36509955e+11]\n",
      "Iteration: 150, Cost: [9.76435698e+11]\n",
      "Iteration: 200, Cost: [1.73081974e+12]\n",
      "Iteration: 250, Cost: [2.69966207e+12]\n",
      "Iteration: 300, Cost: [3.8829627e+12]\n",
      "Iteration: 350, Cost: [5.28072162e+12]\n",
      "Iteration: 400, Cost: [6.89293884e+12]\n",
      "Iteration: 450, Cost: [8.71961435e+12]\n"
     ]
    }
   ],
   "source": [
    "#Some initializations\n",
    "alpha = 0.01\n",
    "iters = 500\n",
    "w, b = 0,0\n",
    "#calling GD for straight line function\n",
    "J_history, p_history, final_w, final_b = gradient_descent(x, y, w, b, alpha, iters,\n",
    "                                                         compute_cost, compute_gradient)"
   ]
  },
  {
   "cell_type": "markdown",
   "id": "fb6fc86a",
   "metadata": {},
   "source": [
    "As we can see, the cost goes on increasing.  \n",
    "- The purpose was to demonstrate if data points are non-linear, here, they follow a quadratic function, then straight line function does not produce a good fit for the dataset.  \n",
    "- In next section, I'll tweak the linear model a bit, making it polynomial and try to re-do the training.  \n"
   ]
  },
  {
   "cell_type": "code",
   "execution_count": 27,
   "id": "586fad6a",
   "metadata": {},
   "outputs": [],
   "source": [
    "#compute model output using trained parameters w and b\n",
    "y_output = np.zeros_like(y_norm)\n",
    "m = x_norm.shape[0]\n",
    "for i in range(m):\n",
    "    y_output[i] = x_norm[i]*final_w + final_b"
   ]
  },
  {
   "cell_type": "code",
   "execution_count": 28,
   "id": "463794ea",
   "metadata": {},
   "outputs": [],
   "source": [
    "#normalize the model output- for similar scale on plot\n",
    "output_norm, output_mu, output_sd = zscore_norm(y_output)"
   ]
  },
  {
   "cell_type": "code",
   "execution_count": 29,
   "id": "cd661dcc",
   "metadata": {},
   "outputs": [
    {
     "data": {
      "image/png": "[encoded data removed]",
      "text/plain": [
       "<Figure size 400x400 with 1 Axes>"
      ]
     },
     "metadata": {},
     "output_type": "display_data"
    }
   ],
   "source": [
    "#plot of the original dataset vs output of linear model\n",
    "\n",
    "#fig, ax = plt.subplots(1,2, figsize = (6,3), constrained_layout = True)\n",
    "plt.figure(figsize = (4,4))\n",
    "plt.scatter(x_norm, y_norm, c=\"red\", marker='+', label = \"original\")\n",
    "plt.plot(x_norm, output_norm, c=\"blue\", label = \"predicted\")\n",
    "#title of plot\n",
    "plt.title('Original data vs Model output')\n",
    "plt.legend()\n",
    "plt.show()"
   ]
  },
  {
   "cell_type": "markdown",
   "id": "62388202",
   "metadata": {},
   "source": [
    "The model produces a straight line which is not a good fit for the non-linear dataset.  \n",
    "A polynomial expression has been used below to create a model that fits this dataset."
   ]
  },
  {
   "cell_type": "markdown",
   "id": "74189a00",
   "metadata": {},
   "source": [
    "#### Using quadratic function as model function"
   ]
  },
  {
   "cell_type": "code",
   "execution_count": 30,
   "id": "e965efba",
   "metadata": {},
   "outputs": [],
   "source": [
    "#function to compute cost.\n",
    "#here, model function is quadratic\n",
    "def compute_cost_polynom(xtrain, ytrain, w, b):\n",
    "    m = xtrain.shape[0]\n",
    "    cost = 0.0\n",
    "    for i in range(m):\n",
    "        fx = np.dot(xtrain[i], w) + b\n",
    "        err = fx - ytrain[i]\n",
    "        cost = cost + err**2\n",
    "    cost = cost/(2*m)\n",
    "    return cost"
   ]
  },
  {
   "cell_type": "code",
   "execution_count": 31,
   "id": "eb383e5e",
   "metadata": {},
   "outputs": [],
   "source": [
    "#function to compute gradient\n",
    "def compute_gradient_polynom(xtrain, ytrain, w, b):\n",
    "    m = xtrain.shape[0]\n",
    "    dj_dw, dj_db = 0.0, 0.0\n",
    "    for i in range(m):\n",
    "        fx = np.dot(xtrain[i], w) + b\n",
    "        err = fx - ytrain[i]\n",
    "        dj_dw = dj_dw + err*xtrain[i]\n",
    "        dj_db = dj_db + err\n",
    "    #average\n",
    "    dj_dw = dj_dw/m\n",
    "    dj_db = dj_db/m\n",
    "    \n",
    "    return dj_dw, dj_db"
   ]
  },
  {
   "cell_type": "code",
   "execution_count": 32,
   "id": "5b33fe23",
   "metadata": {},
   "outputs": [],
   "source": [
    "#function to run gradient descent\n",
    "def gradient_descent_polynom(xtrain, ytrain, w, b, alpha, iters, compute_cost_polynom, compute_gradient_polynom):\n",
    "    J_history, p_history = [],[]\n",
    "    w_in, b_in = w, b\n",
    "    for i in range(iters):\n",
    "        #print(f\"Iteration: {i}\")\n",
    "        #compute gradient\n",
    "        dj_dw, dj_db = compute_gradient_polynom(xtrain, ytrain, w_in, b_in)\n",
    "        \n",
    "        #simultaneous updation of parameters\n",
    "        w_in = w_in - alpha*dj_dw\n",
    "        b_in = b_in - alpha*dj_db\n",
    "        \n",
    "        #store cost and parameter history\n",
    "        if i < 100000:\n",
    "            J_history.append(compute_cost_polynom(xtrain, ytrain, w_in, b_in))\n",
    "            p_history.append((w_in,b_in))\n",
    "            \n",
    "        #print cost at some intervals\n",
    "        if i % math.ceil(iters/10) == 0:\n",
    "            print(f\"Iteration: {i}, Cost: {J_history[-1]}\")\n",
    "        \n",
    "    return J_history, p_history, w_in, b_in"
   ]
  },
  {
   "cell_type": "code",
   "execution_count": 33,
   "id": "e379f8e4",
   "metadata": {},
   "outputs": [],
   "source": [
    "#Some initializations\n",
    "alpha = 0.001\n",
    "iters = 500\n",
    "w, b = [0, 0], 0"
   ]
  },
  {
   "cell_type": "code",
   "execution_count": 34,
   "id": "1515fb56",
   "metadata": {},
   "outputs": [],
   "source": [
    "#new dataset\n",
    "feature1 = np.arange(0,50,1)\n",
    "target_output = feature1**2 + 1\n",
    "#new feature\n",
    "feature2 = feature1**2\n",
    "#combinig both x1 and x2 as a 2D array\n",
    "x = np.vstack((feature1, feature2)).T"
   ]
  },
  {
   "cell_type": "code",
   "execution_count": 35,
   "id": "51be37e1",
   "metadata": {},
   "outputs": [],
   "source": [
    "#normalize both datasets\n",
    "x1_norm, x1_mu, x1_sd = zscore_norm(x)\n",
    "y1_norm, y1_mu, y1_sd = zscore_norm(target_output)"
   ]
  },
  {
   "cell_type": "code",
   "execution_count": 36,
   "id": "0ad08e83",
   "metadata": {},
   "outputs": [
    {
     "name": "stdout",
     "output_type": "stream",
     "text": [
      "Iteration: 0, Cost: 0.49873088582243724\n",
      "Iteration: 50, Cost: 0.4402032823646501\n",
      "Iteration: 100, Cost: 0.39019691943798707\n",
      "Iteration: 150, Cost: 0.34725807717063634\n",
      "Iteration: 200, Cost: 0.31020318179410955\n",
      "Iteration: 250, Cost: 0.2780666405319613\n",
      "Iteration: 300, Cost: 0.25005890941634346\n",
      "Iteration: 350, Cost: 0.22553277417300016\n",
      "Iteration: 400, Cost: 0.20395622397775479\n",
      "Iteration: 450, Cost: 0.18489061839616244\n"
     ]
    }
   ],
   "source": [
    "#call gradient descent for polynomial expression\n",
    "polynom_cost, polynom_parameters, polynom_w, polynom_b = gradient_descent_polynom(x1_norm, y1_norm, w, b, alpha, iters, \n",
    "                                                                                  compute_cost_polynom, \n",
    "                                                                                  compute_gradient_polynom)"
   ]
  },
  {
   "cell_type": "code",
   "execution_count": 37,
   "id": "43753e02",
   "metadata": {},
   "outputs": [],
   "source": [
    "#check how good the model is\n",
    "poly_output = np.zeros_like(y1_norm)\n",
    "for i in range(x1_norm.shape[0]):\n",
    "    poly_output[i] = np.dot(x1_norm[i], polynom_w) + polynom_b\n",
    "\n",
    "#normalize the output\n",
    "output_mu = np.mean(poly_output, axis = 0)\n",
    "output_sd = np.std(poly_output, axis = 0)\n",
    "poly_output = poly_output - output_mu\n",
    "poly_output = poly_output/output_sd\n",
    "    "
   ]
  },
  {
   "cell_type": "code",
   "execution_count": 38,
   "id": "287c6b66",
   "metadata": {},
   "outputs": [
    {
     "data": {
      "text/plain": [
       "array([0.03943468, 0.39210006])"
      ]
     },
     "execution_count": 38,
     "metadata": {},
     "output_type": "execute_result"
    }
   ],
   "source": [
    "polynom_w"
   ]
  },
  {
   "cell_type": "code",
   "execution_count": 39,
   "id": "dd3e9e36",
   "metadata": {},
   "outputs": [
    {
     "data": {
      "image/png": "[encoded data removed]",
      "text/plain": [
       "<Figure size 500x300 with 2 Axes>"
      ]
     },
     "metadata": {},
     "output_type": "display_data"
    }
   ],
   "source": [
    "#plot\n",
    "\n",
    "fig, ax = plt.subplots(1,2,constrained_layout = True, figsize = (5,3))\n",
    "\n",
    "#subplot 1- feature 1\n",
    "ax[0].scatter(x1_norm[:,0], y1_norm, c = \"red\", label = \"original\")\n",
    "ax[0].plot(x1_norm[:,0], poly_output, c = \"blue\", label = \"predicted\")\n",
    "ax[0].set_title('Feature 1')\n",
    "ax[0].set_xlabel('Feature 1')\n",
    "ax[0].set_ylabel('y')\n",
    "\n",
    "#subplot 2- Feature 2\n",
    "ax[1].scatter(x1_norm[:,1], y1_norm, c = \"red\", label = \"original\")\n",
    "ax[1].plot(x1_norm[:,1], poly_output, c = \"blue\", label = \"predicted\")\n",
    "ax[1].set_title('Feature 2')\n",
    "ax[1].set_xlabel('Feature 2')\n",
    "\n",
    "#show legend\n",
    "plt.legend()\n",
    "plt.suptitle(\"Output of polynomial regression vs Actual data\")\n",
    "plt.show()"
   ]
  }
 ],
 "metadata": {
  "kernelspec": {
   "display_name": "Python 3 (ipykernel)",
   "language": "python",
   "name": "python3"
  },
  "language_info": {
   "codemirror_mode": {
    "name": "ipython",
    "version": 3
   },
   "file_extension": ".py",
   "mimetype": "text/x-python",
   "name": "python",
   "nbconvert_exporter": "python",
   "pygments_lexer": "ipython3",
   "version": "3.10.0"
  }
 },
 "nbformat": 4,
 "nbformat_minor": 5
}
